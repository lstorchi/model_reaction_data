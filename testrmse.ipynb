{
 "cells": [
  {
   "cell_type": "code",
   "execution_count": null,
   "metadata": {},
   "outputs": [],
   "source": [
    "import pandas as pd\n",
    "import numpy as np\n",
    "import math\n",
    "\n",
    "def read_compute_rmse(filename, touse=\"y_pred\"):\n",
    "\n",
    "    df = pd.read_csv(filename, sep=';', header=0)\n",
    "    y_actual = df[\"label\"].values\n",
    "    y_predicted = df[touse].values\n",
    "    MSE = np.square(np.subtract(y_actual,y_predicted)).mean() \n",
    "    RMSE = math.sqrt(MSE)\n",
    "\n",
    "    return RMSE"
   ]
  },
  {
   "cell_type": "code",
   "execution_count": null,
   "metadata": {},
   "outputs": [],
   "source": [
    "import glob\n",
    "\n",
    "filenames = glob.glob('./*_predictions.csv')\n",
    "\n",
    "for filename in filenames:\n",
    "    rmse = read_compute_rmse(filename, touse=\"y_pred\")\n",
    "    rmse_general = read_compute_rmse(filename, touse=\"y_pred_general\")\n",
    "    rmse_full = read_compute_rmse(filename, touse=\"y_pred_full\")\n",
    "    print(\"%39s\"%filename.replace(\"_predictions.csv\",\"\").replace(\"./\",\"\"), \\\n",
    "          \"%8.4f\"%(rmse), \"%8.4f\"%(rmse_general), \"%8.4f\"%(rmse_full))\n",
    "\n"
   ]
  }
 ],
 "metadata": {
  "kernelspec": {
   "display_name": "my-rdkit-env",
   "language": "python",
   "name": "python3"
  },
  "language_info": {
   "codemirror_mode": {
    "name": "ipython",
    "version": 3
   },
   "file_extension": ".py",
   "mimetype": "text/x-python",
   "name": "python",
   "nbconvert_exporter": "python",
   "pygments_lexer": "ipython3",
   "version": "3.10.12"
  }
 },
 "nbformat": 4,
 "nbformat_minor": 2
}
