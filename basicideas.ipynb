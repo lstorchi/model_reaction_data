{
 "cells": [
  {
   "cell_type": "code",
   "execution_count": 4,
   "metadata": {},
   "outputs": [
    {
     "name": "stdout",
     "output_type": "stream",
     "text": [
      "2022.03.5\n"
     ]
    }
   ],
   "source": [
    "from rdkit import Chem\n",
    "from rdkit.Chem import rdFingerprintGenerator\n",
    "from rdkit.Chem.Draw import IPythonConsole\n",
    "from rdkit import DataStructs\n",
    "import rdkit\n",
    "\n",
    "import numpy as np \n",
    "print(rdkit.__version__)"
   ]
  },
  {
   "cell_type": "code",
   "execution_count": 5,
   "metadata": {},
   "outputs": [
    {
     "name": "stdout",
     "output_type": "stream",
     "text": [
      "Error reading file: struc.pdb\n"
     ]
    },
    {
     "name": "stderr",
     "output_type": "stream",
     "text": [
      "[11:24:55] WARNING: not removing hydrogen atom without neighbors\n",
      "[11:24:55] Explicit valence for atom # 0 Cl, 2, is greater than permitted\n"
     ]
    }
   ],
   "source": [
    "import os \n",
    "\n",
    "ms = []\n",
    "names = []\n",
    "\n",
    "for dir in os.listdir('./data'):\n",
    "    if os.path.isdir('./data/'+dir):\n",
    "        for file in os.listdir('./data/'+dir):\n",
    "            if file.endswith('.pdb'):\n",
    "                names.append(dir)\n",
    "                m = rdkit.Chem.rdmolfiles.MolFromPDBFile('./data/'+dir+\"/\"+file)\n",
    "                if m is None:\n",
    "                    print(\"Error reading file:\", file)\n",
    "                else:\n",
    "                    ms.append(m)\n",
    "                    #print(type(m))\n"
   ]
  },
  {
   "cell_type": "code",
   "execution_count": 24,
   "metadata": {},
   "outputs": [
    {
     "name": "stdout",
     "output_type": "stream",
     "text": [
      "We have  151  molecules \n",
      "8 Max non zero value in FPs is:  6 7 5 4\n",
      "16 Max non zero value in FPs is:  7 10 6 4\n",
      "32 Max non zero value in FPs is:  7 13 6 4\n",
      "64 Max non zero value in FPs is:  7 16 6 4\n",
      "128 Max non zero value in FPs is:  7 17 6 4\n",
      "256 Max non zero value in FPs is:  7 17 6 4\n",
      "512 Max non zero value in FPs is:  7 18 6 4\n",
      "1024 Max non zero value in FPs is:  7 18 6 4\n",
      "2048 Max non zero value in FPs is:  7 18 6 4\n",
      "4096 Max non zero value in FPs is:  8 18 6 4\n"
     ]
    }
   ],
   "source": [
    "\n",
    "from rdkit import DataStructs\n",
    "\n",
    "print(\"We have \" , len(ms), \" molecules \")\n",
    "\n",
    "for fingersize in [8, 16, 32, 64, 128, 256, 512, 1024, 2048, 4096]:\n",
    "\n",
    "    mfgen = rdFingerprintGenerator.GetMorganGenerator(radius=2,fpSize=fingersize)\n",
    "    rdgen = rdFingerprintGenerator.GetRDKitFPGenerator(fpSize=fingersize)\n",
    "    apgen = rdFingerprintGenerator.GetAtomPairGenerator(fpSize=fingersize)\n",
    "    ttgen = rdFingerprintGenerator.GetTopologicalTorsionGenerator(fpSize=fingersize)\n",
    "\n",
    "    mf_maxnonzero = 0\n",
    "    rd_maxnonzero = 0\n",
    "    ap_maxnonzero = 0\n",
    "    tt_maxnonzero = 0\n",
    "    for m in ms:\n",
    "        mf_np_bits = mfgen.GetFingerprintAsNumPy(m)\n",
    "        mf_np_counts = mfgen.GetCountFingerprintAsNumPy(m)\n",
    "\n",
    "        rd_np_bits = rdgen.GetFingerprintAsNumPy(m)\n",
    "        rd_np_counts = rdgen.GetCountFingerprintAsNumPy(m)\n",
    "\n",
    "        ap_np_bits = apgen.GetFingerprintAsNumPy(m)\n",
    "        ap_np_counts = apgen.GetCountFingerprintAsNumPy(m)\n",
    "\n",
    "        tt_np_bits = ttgen.GetFingerprintAsNumPy(m)\n",
    "        tt_np_counts = ttgen.GetCountFingerprintAsNumPy(m)\n",
    "\n",
    "        # print non zero value and posizion in the array\n",
    "        #print(np.nonzero(mf_np_bits), mf_np_bits[np.nonzero(np_bits)])\n",
    "        #print(np.nonzero(mf_np_counts), mf_np_counts[np.nonzero(np_counts)])\n",
    "\n",
    "        if np.count_nonzero(mf_np_bits) > mf_maxnonzero:\n",
    "            mf_maxnonzero = np.count_nonzero(mf_np_bits)\n",
    "        if np.count_nonzero(mf_np_counts) > mf_maxnonzero:\n",
    "            mf_maxnonzero = np.count_nonzero(mf_np_counts)\n",
    "\n",
    "        if np.count_nonzero(rd_np_bits) > rd_maxnonzero:\n",
    "            rd_maxnonzero = np.count_nonzero(rd_np_bits)\n",
    "        if np.count_nonzero(rd_np_counts) > rd_maxnonzero:\n",
    "            rd_maxnonzero = np.count_nonzero(rd_np_counts)\n",
    "\n",
    "        if np.count_nonzero(ap_np_bits) > ap_maxnonzero:\n",
    "            ap_maxnonzero = np.count_nonzero(ap_np_bits)\n",
    "        if np.count_nonzero(ap_np_counts) > ap_maxnonzero:\n",
    "            ap_maxnonzero = np.count_nonzero(ap_np_counts)\n",
    "\n",
    "        if np.count_nonzero(tt_np_bits) > tt_maxnonzero:\n",
    "            tt_maxnonzero = np.count_nonzero(tt_np_bits)\n",
    "        if np.count_nonzero(tt_np_counts) > tt_maxnonzero:\n",
    "            tt_maxnonzero = np.count_nonzero(tt_np_counts)                \n",
    "\n",
    "    print(fingersize, \"Max non zero value in FPs is: \", mf_maxnonzero, \n",
    "          rd_maxnonzero, ap_maxnonzero, tt_maxnonzero)\n"
   ]
  }
 ],
 "metadata": {
  "kernelspec": {
   "display_name": "my-rdkit-env",
   "language": "python",
   "name": "python3"
  },
  "language_info": {
   "codemirror_mode": {
    "name": "ipython",
    "version": 3
   },
   "file_extension": ".py",
   "mimetype": "text/x-python",
   "name": "python",
   "nbconvert_exporter": "python",
   "pygments_lexer": "ipython3",
   "version": "3.10.12"
  }
 },
 "nbformat": 4,
 "nbformat_minor": 2
}
