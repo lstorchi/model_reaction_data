{
 "cells": [
  {
   "cell_type": "code",
   "execution_count": 1,
   "metadata": {},
   "outputs": [
    {
     "name": "stdout",
     "output_type": "stream",
     "text": [
      "2022.03.5\n"
     ]
    }
   ],
   "source": [
    "from rdkit import Chem\n",
    "from rdkit.Chem import rdFingerprintGenerator\n",
    "from rdkit.Chem.Draw import IPythonConsole\n",
    "from rdkit import DataStructs\n",
    "import rdkit\n",
    "\n",
    "import numpy as np \n",
    "print(rdkit.__version__)"
   ]
  },
  {
   "cell_type": "code",
   "execution_count": 2,
   "metadata": {},
   "outputs": [
    {
     "name": "stdout",
     "output_type": "stream",
     "text": [
      "Error reading file: struc.pdb\n"
     ]
    },
    {
     "name": "stderr",
     "output_type": "stream",
     "text": [
      "[09:44:11] WARNING: not removing hydrogen atom without neighbors\n",
      "[09:44:11] Explicit valence for atom # 0 Cl, 2, is greater than permitted\n"
     ]
    }
   ],
   "source": [
    "import os \n",
    "\n",
    "ms = []\n",
    "names = []\n",
    "\n",
    "for dir in os.listdir('./data'):\n",
    "    if os.path.isdir('./data/'+dir):\n",
    "        for file in os.listdir('./data/'+dir):\n",
    "            if file.endswith('.pdb'):\n",
    "                names.append(dir)\n",
    "                m = rdkit.Chem.rdmolfiles.MolFromPDBFile('./data/'+dir+\"/\"+file)\n",
    "                if m is None:\n",
    "                    print(\"Error reading file:\", file)\n",
    "                else:\n",
    "                    ms.append(m)\n",
    "                    #print(type(m))\n"
   ]
  },
  {
   "cell_type": "code",
   "execution_count": 3,
   "metadata": {},
   "outputs": [
    {
     "name": "stdout",
     "output_type": "stream",
     "text": [
      "We have  151  molecules \n",
      "8 Max non zero value in FPs is:  6 7 5 4\n",
      "16 Max non zero value in FPs is:  7 10 6 4\n",
      "32 Max non zero value in FPs is:  7 13 6 4\n",
      "64 Max non zero value in FPs is:  7 16 6 4\n",
      "128 Max non zero value in FPs is:  7 17 6 4\n",
      "256 Max non zero value in FPs is:  7 17 6 4\n",
      "512 Max non zero value in FPs is:  7 18 6 4\n",
      "1024 Max non zero value in FPs is:  7 18 6 4\n",
      "2048 Max non zero value in FPs is:  7 18 6 4\n",
      "4096 Max non zero value in FPs is:  8 18 6 4\n"
     ]
    }
   ],
   "source": [
    "\n",
    "from rdkit import DataStructs\n",
    "\n",
    "print(\"We have \" , len(ms), \" molecules \")\n",
    "\n",
    "for fingersize in [8, 16, 32, 64, 128, 256, 512, 1024, 2048, 4096]:\n",
    "\n",
    "    mfgen = rdFingerprintGenerator.GetMorganGenerator(radius=2,fpSize=fingersize)\n",
    "    rdgen = rdFingerprintGenerator.GetRDKitFPGenerator(fpSize=fingersize)\n",
    "    apgen = rdFingerprintGenerator.GetAtomPairGenerator(fpSize=fingersize)\n",
    "    ttgen = rdFingerprintGenerator.GetTopologicalTorsionGenerator(fpSize=fingersize)\n",
    "\n",
    "    mf_maxnonzero = 0\n",
    "    rd_maxnonzero = 0\n",
    "    ap_maxnonzero = 0\n",
    "    tt_maxnonzero = 0\n",
    "    for m in ms:\n",
    "        mf_np_bits = mfgen.GetFingerprintAsNumPy(m)\n",
    "        mf_np_counts = mfgen.GetCountFingerprintAsNumPy(m)\n",
    "\n",
    "        rd_np_bits = rdgen.GetFingerprintAsNumPy(m)\n",
    "        rd_np_counts = rdgen.GetCountFingerprintAsNumPy(m)\n",
    "\n",
    "        ap_np_bits = apgen.GetFingerprintAsNumPy(m)\n",
    "        ap_np_counts = apgen.GetCountFingerprintAsNumPy(m)\n",
    "\n",
    "        tt_np_bits = ttgen.GetFingerprintAsNumPy(m)\n",
    "        tt_np_counts = ttgen.GetCountFingerprintAsNumPy(m)\n",
    "\n",
    "        # print non zero value and posizion in the array\n",
    "        #print(np.nonzero(mf_np_bits), mf_np_bits[np.nonzero(np_bits)])\n",
    "        #print(np.nonzero(mf_np_counts), mf_np_counts[np.nonzero(np_counts)])\n",
    "\n",
    "        if np.count_nonzero(mf_np_bits) > mf_maxnonzero:\n",
    "            mf_maxnonzero = np.count_nonzero(mf_np_bits)\n",
    "        if np.count_nonzero(mf_np_counts) > mf_maxnonzero:\n",
    "            mf_maxnonzero = np.count_nonzero(mf_np_counts)\n",
    "\n",
    "        if np.count_nonzero(rd_np_bits) > rd_maxnonzero:\n",
    "            rd_maxnonzero = np.count_nonzero(rd_np_bits)\n",
    "        if np.count_nonzero(rd_np_counts) > rd_maxnonzero:\n",
    "            rd_maxnonzero = np.count_nonzero(rd_np_counts)\n",
    "\n",
    "        if np.count_nonzero(ap_np_bits) > ap_maxnonzero:\n",
    "            ap_maxnonzero = np.count_nonzero(ap_np_bits)\n",
    "        if np.count_nonzero(ap_np_counts) > ap_maxnonzero:\n",
    "            ap_maxnonzero = np.count_nonzero(ap_np_counts)\n",
    "\n",
    "        if np.count_nonzero(tt_np_bits) > tt_maxnonzero:\n",
    "            tt_maxnonzero = np.count_nonzero(tt_np_bits)\n",
    "        if np.count_nonzero(tt_np_counts) > tt_maxnonzero:\n",
    "            tt_maxnonzero = np.count_nonzero(tt_np_counts)                \n",
    "\n",
    "    print(fingersize, \"Max non zero value in FPs is: \", mf_maxnonzero, \n",
    "          rd_maxnonzero, ap_maxnonzero, tt_maxnonzero)\n"
   ]
  },
  {
   "cell_type": "markdown",
   "metadata": {},
   "source": [
    "Using VS3 descriptors: I need to work on that as we are dealing with small maolecules not all can be computed also considering the elements involved \n",
    "\n",
    "considering the previous I will use 512 but need to check similarity and maybe decrease "
   ]
  },
  {
   "cell_type": "code",
   "execution_count": 4,
   "metadata": {},
   "outputs": [
    {
     "name": "stdout",
     "output_type": "stream",
     "text": [
      "8 Mean similarity in FPs is:  0.34324721077245396 0.22935772953079098 0.2965502184173368 0.0017543090215341433\n",
      "8 Mean similarity in FPs is:  0.31731350999440344 0.21203055848943778 0.11413508979340964 0.0010087276873821324\n",
      "16 Mean similarity in FPs is:  0.1975690395664565 0.1286229005371921 0.1817531525249454 0.0011841585895355467\n",
      "16 Mean similarity in FPs is:  0.1902418994036678 0.11903690826506591 0.06887275681279546 0.0007455813341520109\n",
      "32 Mean similarity in FPs is:  0.13349737948985188 0.08399583437053926 0.10131994718844958 0.0008771545107670716\n",
      "32 Mean similarity in FPs is:  0.13559229594737818 0.08253684040501515 0.04214535979438029 0.0004824349809218894\n",
      "64 Mean similarity in FPs is:  0.09116340931409354 0.05166192396127244 0.060559228332079704 0.0007455813341520109\n",
      "64 Mean similarity in FPs is:  0.09584193637276041 0.05169871879711153 0.027150065048888002 0.0004824349809218894\n",
      "128 Mean similarity in FPs is:  0.07055939119290774 0.04124662459551662 0.03874509230649678 0.0004824349809218894\n",
      "128 Mean similarity in FPs is:  0.07566920629332247 0.04256788535740107 0.01884589316233452 0.00039471952984518224\n",
      "256 Mean similarity in FPs is:  0.06360469151317806 0.03461475144289249 0.02505402482837404 0.0004824349809218894\n",
      "256 Mean similarity in FPs is:  0.06933031046544494 0.03600449621814979 0.0148360030315229 0.00039471952984518224\n",
      "512 Mean similarity in FPs is:  0.05222910745627168 0.03035511531595563 0.017636398827487437 0.00039471952984518224\n",
      "512 Mean similarity in FPs is:  0.05774582294656208 0.03173837883924248 0.013596512773746953 0.00039471952984518224\n",
      "1024 Mean similarity in FPs is:  0.04805342419362237 0.024888459609879884 0.014044504585506077 0.00039471952984518224\n",
      "1024 Mean similarity in FPs is:  0.053257883175233396 0.025884307138467594 0.0125525753103441 0.00039471952984518224\n",
      "2048 Mean similarity in FPs is:  0.0479345199772449 0.023608859960514334 0.012896095780200777 0.00039471952984518224\n",
      "2048 Mean similarity in FPs is:  0.05317200153697587 0.024605444272343034 0.012130235539241849 0.00039471952984518224\n",
      "4096 Mean similarity in FPs is:  0.04537169327040738 0.02324243503643955 0.012062411271917707 0.00039471952984518224\n",
      "4096 Mean similarity in FPs is:  0.050382287778933284 0.02425640311867312 0.012130235539241849 0.00039471952984518224\n"
     ]
    }
   ],
   "source": [
    "from sklearn.metrics.pairwise import cosine_similarity\n",
    "\n",
    "for fingersize in [8, 16, 32, 64, 128, 256, 512, 1024, 2048, 4096]:\n",
    "\n",
    "    mfgen = rdFingerprintGenerator.GetMorganGenerator(radius=2,fpSize=fingersize)\n",
    "    rdgen = rdFingerprintGenerator.GetRDKitFPGenerator(fpSize=fingersize)\n",
    "    apgen = rdFingerprintGenerator.GetAtomPairGenerator(fpSize=fingersize)\n",
    "    ttgen = rdFingerprintGenerator.GetTopologicalTorsionGenerator(fpSize=fingersize)\n",
    "\n",
    "    mf_np_bits_l = []\n",
    "    mf_np_counts_l = []\n",
    "    rd_np_bits_l = []\n",
    "    rd_np_counts_l = []\n",
    "    ap_np_bits_l = []\n",
    "    ap_np_counts_l = []\n",
    "    tt_np_bits_l = []\n",
    "    tt_np_counts_l = []\n",
    "\n",
    "    for m in ms:\n",
    "        mf_np_bits = mfgen.GetFingerprintAsNumPy(m)\n",
    "        mf_np_bits_l.append(mf_np_bits)\n",
    "        mf_np_counts = mfgen.GetCountFingerprintAsNumPy(m)\n",
    "        mf_np_counts_l.append(mf_np_counts)\n",
    "\n",
    "        rd_np_bits = rdgen.GetFingerprintAsNumPy(m)\n",
    "        rd_np_bits_l.append(rd_np_bits)\n",
    "        rd_np_counts = rdgen.GetCountFingerprintAsNumPy(m)\n",
    "        rd_np_counts_l.append(rd_np_counts)\n",
    "\n",
    "        ap_np_bits = apgen.GetFingerprintAsNumPy(m)\n",
    "        ap_np_bits_l.append(ap_np_bits)\n",
    "        ap_np_counts = apgen.GetCountFingerprintAsNumPy(m)\n",
    "        ap_np_counts_l.append(ap_np_counts)\n",
    "\n",
    "        tt_np_bits = ttgen.GetFingerprintAsNumPy(m)\n",
    "        tt_np_bits_l.append(tt_np_bits)\n",
    "        tt_np_counts = ttgen.GetCountFingerprintAsNumPy(m)\n",
    "        tt_np_counts_l.append(tt_np_counts)\n",
    "\n",
    "    mf_np_bits_l = np.array(mf_np_bits_l)\n",
    "    mf_np_counts_l = np.array(mf_np_counts_l)\n",
    "    rd_np_bits_l = np.array(rd_np_bits_l)\n",
    "    rd_np_counts_l = np.array(rd_np_counts_l)\n",
    "    ap_np_bits_l = np.array(ap_np_bits_l)\n",
    "    ap_np_counts_l = np.array(ap_np_counts_l)\n",
    "    tt_np_bits_l = np.array(tt_np_bits_l)\n",
    "    tt_np_counts_l = np.array(tt_np_counts_l)\n",
    "\n",
    "    mf_sim = cosine_similarity(mf_np_bits_l)\n",
    "    rd_sim = cosine_similarity(rd_np_bits_l)\n",
    "    ap_sim = cosine_similarity(ap_np_bits_l)\n",
    "    tt_sim = cosine_similarity(tt_np_bits_l)\n",
    "\n",
    "    mf_sim_counts = cosine_similarity(mf_np_counts_l)\n",
    "    rd_sim_counts = cosine_similarity(rd_np_counts_l)\n",
    "    ap_sim_counts = cosine_similarity(ap_np_counts_l)\n",
    "    tt_sim_counts = cosine_similarity(tt_np_counts_l)\n",
    "\n",
    "    print(fingersize, \"Mean similarity in FPs is: \", np.average(mf_sim),\n",
    "            np.average(rd_sim), np.average(ap_sim), np.average(tt_sim))\n",
    "    print(fingersize, \"Mean similarity in FPs is: \", np.average(mf_sim_counts),\n",
    "            np.average(rd_sim_counts), np.average(ap_sim_counts), np.average(tt_sim_counts))"
   ]
  },
  {
   "cell_type": "code",
   "execution_count": 5,
   "metadata": {},
   "outputs": [
    {
     "name": "stdout",
     "output_type": "stream",
     "text": [
      "[0.15584709 0.11228172 0.10229228]\n",
      "(3, 16)\n",
      "[0.23130913 0.04424128 0.17101353 0.02300183 0.07151571 0.30243379\n",
      " 0.16598249 0.15713942 0.2506692  0.09480811 0.17598736 0.56103528\n",
      " 0.1354981  0.17607936 0.42685025 0.34178917]\n"
     ]
    }
   ],
   "source": [
    "import matplotlib.pyplot as plt\n",
    "import mpl_toolkits.mplot3d \n",
    "\n",
    "from sklearn.decomposition import PCA\n",
    "\n",
    "fingersize = 16\n",
    "fgen = rdFingerprintGenerator.GetMorganGenerator(radius=2,fpSize=fingersize)\n",
    "fgen = rdFingerprintGenerator.GetRDKitFPGenerator(fpSize=fingersize)\n",
    "\n",
    "np_bits_l = []\n",
    "np_counts_l = []\n",
    "\n",
    "for m in ms:\n",
    "    np_bits = fgen.GetFingerprintAsNumPy(m)\n",
    "    np_bits_l.append(np_bits)\n",
    "    np_counts = fgen.GetCountFingerprintAsNumPy(m)\n",
    "    np_counts_l.append(np_counts)\n",
    "\n",
    "pca = PCA(n_components=3)\n",
    "pca.fit(np_bits_l)\n",
    "V = pca.components_\n",
    "print(pca.explained_variance_ratio_)\n",
    "print(V.shape)\n",
    "print(V[0,:])\n"
   ]
  },
  {
   "cell_type": "markdown",
   "metadata": {},
   "source": [
    "testa some basic models"
   ]
  },
  {
   "cell_type": "code",
   "execution_count": 9,
   "metadata": {},
   "outputs": [
    {
     "name": "stdout",
     "output_type": "stream",
     "text": [
      "140\n",
      "152\n"
     ]
    }
   ],
   "source": [
    "fp = open('./data/labels.txt', 'r')\n",
    "\n",
    "lnames = []\n",
    "labels = []\n",
    "for line in fp:\n",
    "    sline = line.strip().split()\n",
    "    name = sline[1]\n",
    "    lnames.append(name)\n",
    "    labels.append(float(sline[-1]))\n",
    "\n",
    "fingersize = 16\n",
    "fgen = rdFingerprintGenerator.GetRDKitFPGenerator(fpSize=fingersize)\n",
    "\n",
    "np_bits_l = []\n",
    "np_counts_l = []\n",
    "\n",
    "for m in ms:\n",
    "    np_bits = fgen.GetFingerprintAsNumPy(m)\n",
    "    np_bits_l.append(np_bits)\n",
    "    np_counts = fgen.GetCountFingerprintAsNumPy(m)\n",
    "    np_counts_l.append(np_counts)\n",
    "\n",
    "np_bits_l = np.array(np_bits_l)\n",
    "np_counts_l = np.array(np_counts_l)\n",
    "\n",
    "fp.close()\n",
    "print(len(lnames))\n",
    "print(len(names))"
   ]
  },
  {
   "cell_type": "code",
   "execution_count": 7,
   "metadata": {},
   "outputs": [],
   "source": [
    "from sklearn.cross_decomposition import PLSRegression\n",
    "from sklearn.ensemble import RandomForestRegressor\n",
    "from sklearn.inspection import permutation_importance\n",
    "from sklearn.metrics import mean_squared_error, r2_score\n",
    "from sklearn.model_selection import (LeaveOneOut, cross_val_predict,\n",
    "                                     cross_val_score, train_test_split)\n",
    "\n",
    "\n",
    "\n"
   ]
  }
 ],
 "metadata": {
  "kernelspec": {
   "display_name": "my-rdkit-env",
   "language": "python",
   "name": "python3"
  },
  "language_info": {
   "codemirror_mode": {
    "name": "ipython",
    "version": 3
   },
   "file_extension": ".py",
   "mimetype": "text/x-python",
   "name": "python",
   "nbconvert_exporter": "python",
   "pygments_lexer": "ipython3",
   "version": "3.10.12"
  }
 },
 "nbformat": 4,
 "nbformat_minor": 2
}
