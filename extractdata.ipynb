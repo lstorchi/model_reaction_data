{
 "cells": [
  {
   "cell_type": "code",
   "execution_count": null,
   "metadata": {},
   "outputs": [],
   "source": []
  },
  {
   "cell_type": "code",
   "execution_count": null,
   "metadata": {},
   "outputs": [],
   "source": [
    "import commonutils\n",
    "import warnings\n",
    "\n",
    "warnings.simplefilter(\"ignore\")\n",
    "\n",
    "supersetnames = {\"BARRIER_HEIGHTS\" : \\\n",
    "                       [\"BH76\",\"BHDIV10\",\"BHPERI\",\\\n",
    "                        \"BHROT27\",\"INV24\",\"PX13\",\"WCPT18\"] \\\n",
    "                    ,\"INTRAMOLECULAR_INTERACTIONS\" : \\\n",
    "                       [\"ACONF\",'Amino20x4',\"BUT14DIOL\",\\\n",
    "                        \"ICONF\",\"IDISP\",\"MCONF\",\\\n",
    "                        \"PCONF21\",\"SCONF\",\"UPU23\"] , \\\n",
    "                    \"SMALL_MOLECULES\" :\\\n",
    "                        [\"AL2X6\",\"ALK8\",\"ALKBDE10\",\"BH76RC\",\\\n",
    "                         \"DC13\",\"DIPCS10\",\"FH51\",\"G21EA\",\\\n",
    "                         \"G21IP\",\"G2RC\",\"HEAVYSB11\",\"NBPRC\",\\\n",
    "                         \"PA26\",\"RC21\",\"SIE4x4\",\"TAUT15\",\\\n",
    "                         \"W4-11\",\"YBDE18\"], \\\n",
    "                    \"INTERMOLECULAR_INTERACTIONS\" :\\\n",
    "                       [\"ADIM6\",\"AHB21\",\"CARBHB12\",\\\n",
    "                        \"CHB6\",\"HAL59\",\"HEAVY28\",\"IL16\",\\\n",
    "                        \"PNICO23\",\"RG18\",\"S22\",\"S66\",\"WATER27\"] , \\\n",
    "                    \"LARGE_SYSTEMS\" :\\\n",
    "                        [\"BSR36\",\"C60ISO\",\"CDIE20\",\"DARC\",\\\n",
    "                         \"ISO34\",\"ISOL24\",\"MB16-43\",\"PArel\",\\\n",
    "                            \"RSE43\"]}  \n",
    "\n",
    "howmanydifs = 3\n",
    "methods = {}\n",
    "entries = [\"Nuclear Repulsion  :\", \\\n",
    "        \"One Electron Energy:\", \\\n",
    "        \"Two Electron Energy:\", \\\n",
    "        \"Potential Energy   :\", \\\n",
    "        \"Kinetic Energy     :\", \\\n",
    "        \"E(X)               :\"  , \\\n",
    "        \"E(C)               :\"  , \\\n",
    "        \"Dispersion correction\", \\\n",
    "        \"FINAL SINGLE POINT ENERGY\"]\n",
    "functionals = [\"PBE\", \"PBE0\", \"TPSS\", \"TPSSh\"]\n",
    "basis_sets = [\"MINIX\", \"SVP\", \"TZVP\"]\n",
    "for func in functionals:\n",
    "    for basis in basis_sets:\n",
    "        methods[func + \"-\" + basis] = []\n",
    "        for ebtry in entries:\n",
    "            methods[func + \"-\" + basis].append(ebtry)\n",
    "\n",
    "# read all the data and initialize the data structures\n",
    "rootdir = \"../datasets/AllData_3/\"   \n",
    "allvalues_perset, fullsetnames, models_results = \\\n",
    "        commonutils.read_and_init (rootdir, supersetnames, howmanydifs, methods, \\\n",
    "                       DEBUG=True)"
   ]
  },
  {
   "cell_type": "code",
   "execution_count": null,
   "metadata": {},
   "outputs": [],
   "source": [
    "# write all the data to a file\n",
    "#import json\n",
    "#with open('allvalues_perset.json', 'w') as fp:\n",
    "#    json.dump(allvalues_perset, fp)\n",
    "\n",
    "import pickle\n",
    "pickle.dump(allvalues_perset, open(\"allvalues_perset.p\", \"wb\"))\n",
    "pickle.dump(fullsetnames, open(\"fullsetnames.p\", \"wb\"))\n",
    "pickle.dump(methods, open(\"methods.p\", \"wb\"))\n",
    "pickle.dump(functionals, open(\"functionals.p\", \"wb\"))\n",
    "pickle.dump(basis_sets, open(\"basis_sets.p\", \"wb\"))\n",
    "pickle.dump(supersetnames, open(\"supersetnames.p\", \"wb\"))"
   ]
  }
 ],
 "metadata": {
  "kernelspec": {
   "display_name": "py310",
   "language": "python",
   "name": "python3"
  },
  "language_info": {
   "codemirror_mode": {
    "name": "ipython",
    "version": 3
   },
   "file_extension": ".py",
   "mimetype": "text/x-python",
   "name": "python",
   "nbconvert_exporter": "python",
   "pygments_lexer": "ipython3",
   "version": "3.10.14"
  }
 },
 "nbformat": 4,
 "nbformat_minor": 2
}
