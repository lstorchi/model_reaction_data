{
 "cells": [
  {
   "cell_type": "code",
   "execution_count": 1,
   "metadata": {},
   "outputs": [],
   "source": [
    "import os\n",
    "import pandas as pd\n",
    "\n",
    "\n",
    "modelscoefficents = {}\n",
    "rootdir = './RawData_RemovingNR'\n",
    "for dir in os.listdir(rootdir):\n",
    "    if os.path.isdir(os.path.join(rootdir, dir)):\n",
    "        modelscoefficents[dir] = {}\n",
    "        modelscoefficents[dir][\"Setname\"] = []\n",
    "        modelscoefficents[dir][\"ModelType\"] = []\n",
    "        modelscoefficents[dir][\"FeatName\"] = []\n",
    "        modelscoefficents[dir][\"CoeffValue\"] = []\n",
    "        modelscoefficents[dir][\"FuncctionalBasisiSet\"] = []\n",
    "        for file in os.listdir(os.path.join(rootdir, dir)):\n",
    "            if file == 'modelscoefficients.csv':\n",
    "                fp = open(os.path.join(rootdir, dir, file), 'r')\n",
    "                lines = fp.readlines()\n",
    "                for l in lines:\n",
    "                    if l.find(' PLS ') == -1:\n",
    "                        sl = l.split(',')\n",
    "                        if len(sl) !=  3:\n",
    "                            print('ERROR in', os.path.join(rootdir, dir, file))\n",
    "                            exit(-1)\n",
    "                        else:\n",
    "                            modelscoefficents[dir][\"FuncctionalBasisiSet\"].append(dir)\n",
    "                            for idx, e in enumerate(sl):\n",
    "                                e = e.strip()\n",
    "                                if idx == 0:\n",
    "                                    se = e.split(' ')\n",
    "                                    setname  = ''\n",
    "                                    modeltype = ''\n",
    "\n",
    "                                    if len(se) == 2:\n",
    "                                        setname  = se[0]\n",
    "                                        modeltype = se[1]\n",
    "                                    else:\n",
    "                                        setname  = se[0]\n",
    "                                        modeltype = ' '.join(se[1:])\n",
    "                                    modelscoefficents[dir][\"Setname\"].append(setname)\n",
    "                                    modelscoefficents[dir][\"ModelType\"].append(modeltype)\n",
    "                                elif idx == 1:\n",
    "                                    modelscoefficents[dir][\"FeatName\"].append(e)\n",
    "                                elif idx == 2:\n",
    "                                    cv = float(e)\n",
    "                                    modelscoefficents[dir][\"CoeffValue\"].append(cv)\n",
    "                fp.close()\n"
   ]
  },
  {
   "cell_type": "code",
   "execution_count": 2,
   "metadata": {},
   "outputs": [],
   "source": [
    "# check unconverged models so with Coefficients = 1\n",
    "for model in modelscoefficents:\n",
    "    for idx, val in enumerate(modelscoefficents[model][\"CoeffValue\"]):\n",
    "        if val == 1.0:\n",
    "            print(model, modelscoefficents[model][\"Setname\"][idx],\\\n",
    "                   modelscoefficents[model][\"ModelType\"][idx], \\\n",
    "                    modelscoefficents[model][\"FeatName\"][idx], \\\n",
    "                        modelscoefficents[model][\"CoeffValue\"][idx])"
   ]
  },
  {
   "cell_type": "code",
   "execution_count": 3,
   "metadata": {},
   "outputs": [],
   "source": [
    "# check sizes \n",
    "for model in modelscoefficents:\n",
    "    assert len(modelscoefficents[model][\"Setname\"]) == len(modelscoefficents[model][\"ModelType\"])\n",
    "    assert len(modelscoefficents[model][\"Setname\"]) == len(modelscoefficents[model][\"FeatName\"])\n",
    "    assert len(modelscoefficents[model][\"Setname\"]) == len(modelscoefficents[model][\"CoeffValue\"])\n",
    "    assert len(modelscoefficents[model][\"Setname\"]) == len(modelscoefficents[model][\"FuncctionalBasisiSet\"])"
   ]
  },
  {
   "cell_type": "code",
   "execution_count": 4,
   "metadata": {},
   "outputs": [],
   "source": [
    "# transform Custom LR into MAPELR\n",
    "for model in modelscoefficents:\n",
    "    for idx, val in enumerate(modelscoefficents[model][\"ModelType\"]):\n",
    "        if val == 'Custom LR':\n",
    "            modelscoefficents[model][\"ModelType\"][idx] = 'MAPELR'\n",
    "        elif val == 'Custom LR split':\n",
    "            modelscoefficents[model][\"ModelType\"][idx] = 'MAPELR split'"
   ]
  },
  {
   "cell_type": "code",
   "execution_count": 5,
   "metadata": {},
   "outputs": [
    {
     "name": "stdout",
     "output_type": "stream",
     "text": [
      "LR\n",
      "MAPELR split\n",
      "LR split\n",
      "MAPELR\n"
     ]
    }
   ],
   "source": [
    "modeltypes = set()\n",
    "for model in modelscoefficents:\n",
    "    for modeltype in modelscoefficents[model][\"ModelType\"]:\n",
    "        modeltypes.add(modeltype)\n",
    "\n",
    "for modeltype in modeltypes:\n",
    "    print(modeltype)"
   ]
  },
  {
   "cell_type": "code",
   "execution_count": 6,
   "metadata": {},
   "outputs": [],
   "source": [
    "# use only MAPELR and LR data for the analysis\n",
    "toincludepermodel = {}\n",
    "for model in modelscoefficents:\n",
    "    toinclude = []\n",
    "    for idx, val in enumerate(modelscoefficents[model][\"ModelType\"]):\n",
    "        if val == 'MAPELR' or val == 'LR':\n",
    "            toinclude.append(idx)\n",
    "    toincludepermodel[model] = toinclude\n",
    "\n",
    "# create a new dictionary with only MAPELR and LR data\n",
    "modelscoefficentsnew = {}\n",
    "for model in modelscoefficents:\n",
    "    modelscoefficentsnew[model] = {}\n",
    "    modelscoefficentsnew[model][\"FuncctionalBasisiSet\"] = []\n",
    "    modelscoefficentsnew[model][\"Setname\"] = []\n",
    "    modelscoefficentsnew[model][\"ModelType\"] = []\n",
    "    modelscoefficentsnew[model][\"FeatName\"] = []\n",
    "    modelscoefficentsnew[model][\"CoeffValue\"] = []\n",
    "    for idx in toincludepermodel[model]:\n",
    "        modelscoefficentsnew[model][\"FuncctionalBasisiSet\"].append(modelscoefficents[model][\"FuncctionalBasisiSet\"][idx])\n",
    "        modelscoefficentsnew[model][\"Setname\"].append(modelscoefficents[model][\"Setname\"][idx])\n",
    "        modelscoefficentsnew[model][\"ModelType\"].append(modelscoefficents[model][\"ModelType\"][idx])\n",
    "        modelscoefficentsnew[model][\"FeatName\"].append(modelscoefficents[model][\"FeatName\"][idx])\n",
    "        modelscoefficentsnew[model][\"CoeffValue\"].append(modelscoefficents[model][\"CoeffValue\"][idx])\n",
    "\n",
    "def get_coefficents_for_featname(modelscoefficents, \\\n",
    "                                infuncbasis, \\\n",
    "                                looksetname, \\\n",
    "                                lookmodeltype, \\\n",
    "                                lookfeatname):\n",
    "    coefficent = None\n",
    "    for model in modelscoefficents:\n",
    "        if model == infuncbasis:\n",
    "            for idx, feat in enumerate(modelscoefficents[model][\"FeatName\"]):\n",
    "                setname = modelscoefficents[model][\"Setname\"][idx]\n",
    "                modeltyp = modelscoefficents[model][\"ModelType\"][idx]\n",
    "                funcbasis = modelscoefficents[model][\"FuncctionalBasisiSet\"][idx]\n",
    "                if (feat.find(lookfeatname) >= 0) \\\n",
    "                    and setname == looksetname and \\\n",
    "                    modeltyp == lookmodeltype and \\\n",
    "                    funcbasis == infuncbasis: # double check\n",
    "                   coefficent = modelscoefficents[model][\"CoeffValue\"][idx]\n",
    "    \n",
    "    return coefficent"
   ]
  },
  {
   "cell_type": "code",
   "execution_count": 7,
   "metadata": {},
   "outputs": [
    {
     "name": "stdout",
     "output_type": "stream",
     "text": [
      "MAPELR\n",
      "Feature (BARRIER_HEIGHTS) ,  PBE_MINIX ,    PBE_SVP ,   PBE_TZVP ,   PBE_QZVP , PBE0_MINIX ,   PBE0_SVP ,  PBE0_TZVP ,  PBE0_QZVP \n",
      " FSPE ,  1.99716385 ,  1.00330531 ,  0.91180062 ,  0.76404979 ,  2.00690913 ,  0.86131996 ,  0.76787644 ,  0.58805508 \n",
      "   EC ,  -2.18038842 ,  -1.32623339 ,  -1.01591660 ,  -1.02278030 ,  -1.70445478 ,  -0.84969175 ,  -0.68686545 ,  -0.60807370 \n",
      "   EX ,  0.65844298 ,  0.33855344 ,  0.27269771 ,  0.21852629 ,  0.73294078 ,  0.24337097 ,  0.09598262 ,  0.12613078 \n",
      "   DC ,  6.52591257 ,  3.28033194 ,  2.81917229 ,  2.20691766 ,  6.58545760 ,  2.75681347 ,  2.37617910 ,  1.75815379 \n",
      "   PE ,  -1.28246988 ,  -0.14188054 ,  0.02499490 ,  0.24327279 ,  -1.30509433 ,  0.04863531 ,  0.19232713 ,  0.39976818 \n",
      "   KE ,  -1.24628045 ,  -0.13514984 ,  0.06762427 ,  0.31387845 ,  -1.27348036 ,  0.05587646 ,  0.19931485 ,  0.43011569 \n",
      "  OEE ,  0.00846847 ,  0.00478252 ,  0.00306320 ,  0.00275563 ,  0.00570160 ,  0.00439149 ,  0.00250107 ,  0.00105656 \n",
      "  TEE ,  0.01711604 ,  0.00958549 ,  0.00616301 ,  0.00549282 ,  0.01164569 ,  0.00883825 ,  0.00501613 ,  0.00210903 \n",
      "Intercept ,  1.34918409 ,  0.48811697 ,  0.11999324 ,  -0.03309314 ,  1.24966224 ,  -0.10948834 ,  -0.00087552 ,  0.01234478 \n",
      "Feature (INTRAMOLECULAR_INTERACTIONS) ,  PBE_MINIX ,    PBE_SVP ,   PBE_TZVP ,   PBE_QZVP , PBE0_MINIX ,   PBE0_SVP ,  PBE0_TZVP ,  PBE0_QZVP \n",
      " FSPE ,  0.33303347 ,  0.33534123 ,  0.37138184 ,  0.44820166 ,  0.25263028 ,  0.32670244 ,  0.15756264 ,  0.19757531 \n",
      "   EC ,  -1.39929929 ,  -0.40521641 ,  -0.31652131 ,  -0.24613366 ,  -1.14378691 ,  -0.10291132 ,  0.24020439 ,  0.07310021 \n",
      "   EX ,  0.57352422 ,  0.23456920 ,  0.01139957 ,  -0.01277639 ,  0.65624174 ,  0.17826861 ,  -0.20074242 ,  -0.16179831 \n",
      "   DC ,  1.96958664 ,  1.41926505 ,  1.38037213 ,  1.48145807 ,  1.76747780 ,  1.29864951 ,  0.68275305 ,  0.70577061 \n",
      "   PE ,  0.16580854 ,  0.46854754 ,  0.50432111 ,  0.47881812 ,  0.23047920 ,  0.53685961 ,  0.76299235 ,  0.74099629 \n",
      "   KE ,  0.19767492 ,  0.44750811 ,  0.48672989 ,  0.48780227 ,  0.25463753 ,  0.49121034 ,  0.71181925 ,  0.75077750 \n",
      "  OEE ,  0.00033173 ,  -0.00174622 ,  -0.00210649 ,  -0.00231788 ,  0.00012500 ,  -0.00091636 ,  -0.00159400 ,  -0.00200084 \n",
      "  TEE ,  0.00069413 ,  -0.00348074 ,  -0.00418829 ,  -0.00460844 ,  0.00027975 ,  -0.00182797 ,  -0.00318098 ,  -0.00400281 \n",
      "Intercept ,  0.14855654 ,  0.04752170 ,  0.07040879 ,  0.07727498 ,  0.24463764 ,  -0.14827700 ,  0.01121921 ,  0.01527077 \n",
      "Feature (SMALL_MOLECULES) ,  PBE_MINIX ,    PBE_SVP ,   PBE_TZVP ,   PBE_QZVP , PBE0_MINIX ,   PBE0_SVP ,  PBE0_TZVP ,  PBE0_QZVP \n",
      " FSPE ,  -3.20964742 ,  0.05065095 ,  0.61708016 ,  0.46638829 ,  -1.13048881 ,  -0.56499174 ,  0.51760660 ,  0.60346814 \n",
      "   EC ,  0.39793365 ,  -0.08386128 ,  -0.28235897 ,  -0.08174627 ,  -0.27253425 ,  -0.49235985 ,  -0.15467866 ,  -0.31942789 \n",
      "   EX ,  0.28224840 ,  0.10392467 ,  0.01133533 ,  -0.12339060 ,  0.29896896 ,  0.03214968 ,  -0.13632815 ,  -0.05869792 \n",
      "   DC ,  -8.63097420 ,  0.36709270 ,  2.00436877 ,  1.42036796 ,  -1.90858330 ,  5.03160634 ,  1.31895941 ,  1.65307703 \n",
      "   PE ,  3.66752160 ,  0.85910597 ,  0.33374157 ,  0.53830652 ,  1.37461862 ,  1.49087710 ,  0.58453269 ,  0.46863795 \n",
      "   KE ,  3.75395754 ,  0.82446961 ,  0.27896169 ,  0.50774530 ,  1.40428385 ,  1.41527403 ,  0.61408729 ,  0.48175609 \n",
      "  OEE ,  -0.00485210 ,  0.00026646 ,  -0.00089590 ,  -0.00486262 ,  0.00543093 ,  -0.00438316 ,  -0.00576637 ,  -0.00287266 \n",
      "  TEE ,  -0.00979580 ,  0.00053165 ,  -0.00178051 ,  -0.00972211 ,  0.01059454 ,  -0.00877023 ,  -0.01153453 ,  -0.00574295 \n",
      "Intercept ,  1.76667215 ,  0.30637306 ,  0.33346036 ,  0.41700003 ,  -0.69405897 ,  -0.12554990 ,  -0.19879171 ,  0.19920915 \n",
      "Feature (INTERMOLECULAR_INTERACTIONS) ,  PBE_MINIX ,    PBE_SVP ,   PBE_TZVP ,   PBE_QZVP , PBE0_MINIX ,   PBE0_SVP ,  PBE0_TZVP ,  PBE0_QZVP \n",
      " FSPE ,  0.03970843 ,  0.39054122 ,  0.21248289 ,  0.35949429 ,  -0.42066961 ,  0.08650546 ,  0.24886963 ,  0.28042673 \n",
      "   EC ,  -0.42810475 ,  -1.51258972 ,  -0.35073257 ,  -0.59829674 ,  1.19150320 ,  -0.16870414 ,  -0.24052166 ,  -0.32483804 \n",
      "   EX ,  0.24847473 ,  0.46253468 ,  0.04843472 ,  0.02495757 ,  -0.30280731 ,  0.21693155 ,  -0.47998844 ,  0.01222716 \n",
      "   DC ,  1.08223453 ,  1.48840366 ,  0.95683021 ,  1.11914145 ,  0.77128557 ,  0.88795737 ,  0.81069569 ,  0.92051607 \n",
      "   PE ,  0.47495264 ,  0.43658913 ,  0.64021350 ,  0.62533824 ,  0.42333417 ,  0.59781785 ,  0.74938973 ,  0.68566191 \n",
      "   KE ,  0.48254704 ,  0.46553951 ,  0.61538125 ,  0.61506707 ,  0.38473057 ,  0.60081964 ,  0.68876617 ,  0.67427866 \n",
      "  OEE ,  0.00101116 ,  0.00157479 ,  0.00089322 ,  0.00037116 ,  -0.00114399 ,  0.00201197 ,  -0.00054940 ,  -0.00005767 \n",
      "  TEE ,  0.00202218 ,  0.00314877 ,  0.00178479 ,  0.00073967 ,  -0.00229179 ,  0.00402377 ,  -0.00108698 ,  -0.00011656 \n",
      "Intercept ,  -0.00702427 ,  -0.01740314 ,  -0.16713752 ,  -0.26229738 ,  0.01441454 ,  -0.06288938 ,  0.70719350 ,  -0.09187482 \n",
      "Feature (LARGE_SYSTEMS) ,  PBE_MINIX ,    PBE_SVP ,   PBE_TZVP ,   PBE_QZVP , PBE0_MINIX ,   PBE0_SVP ,  PBE0_TZVP ,  PBE0_QZVP \n",
      " FSPE ,  1.08423353 ,  0.45301334 ,  0.33017501 ,  0.18627564 ,  0.47802431 ,  0.23741835 ,  0.35500524 ,  0.30900580 \n",
      "   EC ,  -1.74415624 ,  -0.32154017 ,  -0.22356699 ,  -0.10467943 ,  -1.20285437 ,  -0.39925296 ,  -0.10183912 ,  -0.11938470 \n",
      "   EX ,  0.30403860 ,  0.06218057 ,  0.10368867 ,  0.10767849 ,  0.13676517 ,  -0.07291640 ,  -0.02295208 ,  -0.02437058 \n",
      "   DC ,  3.32272407 ,  1.71901902 ,  1.50363345 ,  1.16116658 ,  1.84038448 ,  0.56569952 ,  1.30172124 ,  1.15304004 \n",
      "   PE ,  -0.12420430 ,  0.37004066 ,  0.43385851 ,  0.54201477 ,  0.32071638 ,  0.82529714 ,  0.53368977 ,  0.58458010 \n",
      "   KE ,  -0.11433413 ,  0.36408638 ,  0.39256065 ,  0.48321566 ,  0.31677200 ,  0.84632097 ,  0.51951676 ,  0.57105991 \n",
      "  OEE ,  0.01136022 ,  -0.00420679 ,  -0.00269567 ,  -0.00550203 ,  -0.00684585 ,  -0.00336886 ,  -0.00158475 ,  -0.00182804 \n",
      "  TEE ,  0.02274609 ,  -0.00844163 ,  -0.00543423 ,  -0.01104757 ,  -0.01370766 ,  -0.00677765 ,  -0.00318874 ,  -0.00368105 \n",
      "Intercept ,  0.01472768 ,  0.49622847 ,  0.64397872 ,  0.62315410 ,  0.17787495 ,  0.70061267 ,  0.33086519 ,  0.26796681 \n",
      "Feature (      Full) ,  PBE_MINIX ,    PBE_SVP ,   PBE_TZVP ,   PBE_QZVP , PBE0_MINIX ,   PBE0_SVP ,  PBE0_TZVP ,  PBE0_QZVP \n",
      " FSPE ,  -0.01849218 ,  0.18227838 ,  0.25884965 ,  0.38420517 ,  -0.57875199 ,  0.23410555 ,  0.32260241 ,  0.40208683 \n",
      "   EC ,  -0.46759740 ,  -0.15957639 ,  -0.20728891 ,  -0.30661541 ,  0.29774339 ,  -0.41149680 ,  -0.28963034 ,  -0.24384338 \n",
      "   EX ,  0.12438654 ,  0.20536962 ,  0.01035704 ,  0.01406208 ,  0.02168604 ,  0.15665402 ,  0.02631948 ,  -0.00747895 \n",
      "   DC ,  1.44099311 ,  0.78943163 ,  1.21624639 ,  1.41989491 ,  0.25357005 ,  1.08823733 ,  1.07174612 ,  1.04840739 \n",
      "   PE ,  0.26361413 ,  0.70649545 ,  0.53410748 ,  0.48985358 ,  0.57892123 ,  0.57758724 ,  0.63193976 ,  0.58639302 \n",
      "   KE ,  0.27689503 ,  0.68338167 ,  0.50844224 ,  0.47446781 ,  0.58865086 ,  0.56824434 ,  0.61871843 ,  0.58725603 \n",
      "  OEE ,  0.00183233 ,  0.00101720 ,  -0.00066109 ,  -0.00036037 ,  -0.00045284 ,  0.00059242 ,  -0.00077030 ,  -0.00097682 \n",
      "  TEE ,  0.00367090 ,  0.00203529 ,  -0.00131478 ,  -0.00071130 ,  -0.00091543 ,  0.00118776 ,  -0.00153685 ,  -0.00195012 \n",
      "Intercept ,  0.52505632 ,  0.14679069 ,  0.14024426 ,  0.11720260 ,  0.67868226 ,  -0.00074844 ,  -0.02455226 ,  0.00477289 \n",
      "\n"
     ]
    }
   ],
   "source": [
    "listfuncbasis = [\"PBE_MINIX\", \"PBE_SVP\", \"PBE_TZVP\", \"PBE_QZVP\", \\\n",
    "              \"PBE0_MINIX\", \"PBE0_SVP\", \"PBE0_TZVP\", \"PBE0_QZVP\",]\n",
    "featuresnames = [\"FSPE\", \"EC\", \"EX\", \"DC\", \"PE\", \"KE\", \"OEE\", \"TEE\", \"NR\"]\n",
    "featuresnames = [\"FSPE\", \"EC\", \"EX\", \"DC\", \"PE\", \"KE\", \"OEE\", \"TEE\"]\n",
    "modeltypes = [\"MAPELR\"]\n",
    "ssetnams = [\"BARRIER_HEIGHTS\", \"INTRAMOLECULAR_INTERACTIONS\", \\\n",
    "            \"SMALL_MOLECULES\", \"INTERMOLECULAR_INTERACTIONS\", \\\n",
    "            \"LARGE_SYSTEMS\", \"Full\"]\n",
    "\n",
    "for mt in modeltypes:\n",
    "    print(mt)\n",
    "    for ssetnam in ssetnams:\n",
    "        print(\"Feature (%10s) , \"%(ssetnam), end='')\n",
    "        for funcbasis in listfuncbasis:\n",
    "            if funcbasis == listfuncbasis[-1]:\n",
    "                print(\"%10s \"%(funcbasis))\n",
    "            else:\n",
    "                print(\"%10s , \"%(funcbasis), end='')\n",
    "        \n",
    "        for commonfeatname  in featuresnames + [\"Intercept\"]:\n",
    "            print(\"%5s , \"%(commonfeatname), end='')\n",
    "            for funcbasis in listfuncbasis:\n",
    "                coeff = get_coefficents_for_featname(modelscoefficentsnew, \\\n",
    "                                funcbasis, ssetnam, mt, commonfeatname)\n",
    "                if funcbasis == listfuncbasis[-1]:\n",
    "                    print(\" %10.8f \"%(coeff))\n",
    "                else:\n",
    "                    print(\" %10.8f , \"%(coeff) , end='')   \n",
    "    print()"
   ]
  },
  {
   "cell_type": "code",
   "execution_count": 8,
   "metadata": {},
   "outputs": [
    {
     "name": "stdout",
     "output_type": "stream",
     "text": [
      "0.48811697 - 1.32623339 * PBE_SVP_EC + 0.33855344 * PBE_SVP_EX + 1.00330531 * PBE_SVP_FSPE + 3.28033194 * PBE_SVP_DC - 0.14188054 * PBE_SVP_PE - 0.13514984 * PBE_SVP_KE + 0.00478252 * PBE_SVP_OEE + 0.00958549 * PBE_SVP_TEE \n"
     ]
    }
   ],
   "source": [
    "# extract an equation given a startpoint, setname and modeltype\n",
    "startpoint = 'PBE_SVP'\n",
    "setname = 'BARRIER_HEIGHTS'\n",
    "modeltype = 'MAPELR'\n",
    "\n",
    "for sp in modelscoefficents:\n",
    "    if sp == startpoint:\n",
    "        for idx, sn in enumerate(modelscoefficents[sp][\"Setname\"]):\n",
    "            mt = modelscoefficents[sp][\"ModelType\"][idx]\n",
    "            fn = modelscoefficents[sp][\"FeatName\"][idx]\n",
    "            cv = modelscoefficents[sp][\"CoeffValue\"][idx]\n",
    "            if sn == setname and mt == modeltype:\n",
    "                if fn == 'Intercept':\n",
    "                    print(f'{cv:.8f}', end=' ')\n",
    "                else:\n",
    "                    if cv > 0:\n",
    "                        print(f'+ {cv:.8f} * {fn}', end=' ')\n",
    "                    else:\n",
    "                        print(f'- {-cv:.8f} * {fn}', end=' ')\n",
    "        print('')"
   ]
  },
  {
   "cell_type": "code",
   "execution_count": 9,
   "metadata": {},
   "outputs": [
    {
     "data": {
      "image/png": "[encoded data removed]",
      "text/plain": [
       "<Figure size 720x360 with 2 Axes>"
      ]
     },
     "metadata": {
      "needs_background": "light"
     },
     "output_type": "display_data"
    }
   ],
   "source": [
    "import matplotlib.pyplot as plt\n",
    "import seaborn as sns\n",
    "import numpy as np\n",
    "\n",
    "def plot_featurename_distribution (featname, plot=True):\n",
    "    allvalues = []\n",
    "    for sp in modelscoefficents:\n",
    "        for idx, fn in enumerate(modelscoefficents[sp][\"FeatName\"]):\n",
    "            if fn == featname:\n",
    "                sn = modelscoefficents[sp][\"Setname\"][idx]\n",
    "                mt = modelscoefficents[sp][\"ModelType\"][idx]\n",
    "                cv = modelscoefficents[sp][\"CoeffValue\"][idx]\n",
    "                allvalues.append(cv)\n",
    "                #print(f'{sp} {sn} {mt} {cv:.8f}')\n",
    "\n",
    "    # plot the distribution of the values\n",
    "\n",
    "\n",
    "    # Create a boxplot\n",
    "    #sns.set(style=\"whitegrid\")\n",
    "    #ax = sns.boxplot(allvalues)\n",
    "    #plt.show()\n",
    "\n",
    "    if not plot:\n",
    "        return allvalues\n",
    "    \n",
    "    # create an histogram and a violin plot in the same figure\n",
    "    plt.figure(figsize=(10, 5))\n",
    "    # add a title to the plot\n",
    "    plt.suptitle(f'Distribution of values for {featname}')\n",
    "    plt.subplot(1, 2, 1)\n",
    "    # create a histogram\n",
    "    sns.histplot(allvalues, bins=20)\n",
    "    plt.subplot(1, 2, 2)\n",
    "    # create a violin plot\n",
    "    sns.violinplot(data=allvalues)\n",
    "    plt.show()\n",
    "\n",
    "    return allvalues\n",
    "\n",
    "# extract all values for a given featurename \n",
    "featname = 'PBE_SVP_EC'\n",
    "allval = plot_featurename_distribution(featname)"
   ]
  },
  {
   "cell_type": "code",
   "execution_count": 10,
   "metadata": {},
   "outputs": [
    {
     "data": {
      "image/png": "[encoded data removed]",
      "text/plain": [
       "<Figure size 1440x1080 with 1 Axes>"
      ]
     },
     "metadata": {
      "needs_background": "light"
     },
     "output_type": "display_data"
    }
   ],
   "source": [
    "# extract all possible feature names\n",
    "featnames = set()\n",
    "avergesforfeatures = {}\n",
    "for sp in modelscoefficents:\n",
    "    for idx, fn in enumerate(modelscoefficents[sp][\"FeatName\"]):\n",
    "        if fn not in featnames:\n",
    "            featnames.add(fn)\n",
    "\n",
    "for fn in featnames:\n",
    "    allval = plot_featurename_distribution(fn, plot=False)\n",
    "    avergesforfeatures[fn] = (np.mean(allval), \n",
    "                                min(allval), \n",
    "                                max(allval),  \n",
    "                                np.std(allval),\n",
    "                                len(allval))\n",
    "\n",
    "\n",
    "#for fn in featnames:\n",
    "#    print(\"%25s %11.8f %11.8f %11.8f %11.8f %3d\" % (fn, \\\n",
    "#                avergesforfeatures[fn][0], \\\n",
    "#                avergesforfeatures[fn][1], \\\n",
    "#                avergesforfeatures[fn][2], \\\n",
    "#                avergesforfeatures[fn][3], \\\n",
    "#                avergesforfeatures[fn][4]))\n",
    "# collect all meanvalues \n",
    "meanvalues = []\n",
    "stdvalues = []\n",
    "featurenames = []\n",
    "for fn in featnames:\n",
    "    meanvalues.append(avergesforfeatures[fn][0])\n",
    "    stdvalues.append(avergesforfeatures[fn][3])\n",
    "    featurenames.append(fn)\n",
    "\n",
    "# plot the mean values \n",
    "plt.figure(figsize=(20, 15))\n",
    "# add a title to the plot\n",
    "plt.title(f'Mean values for all featurenames')\n",
    "plt.bar(featurenames, meanvalues, yerr=stdvalues)\n",
    "plt.show()"
   ]
  },
  {
   "cell_type": "code",
   "execution_count": 11,
   "metadata": {},
   "outputs": [],
   "source": [
    "#for fn in featnames:\n",
    "#    allval = plot_featurename_distribution(fn)\n"
   ]
  }
 ],
 "metadata": {
  "kernelspec": {
   "display_name": "base",
   "language": "python",
   "name": "python3"
  },
  "language_info": {
   "codemirror_mode": {
    "name": "ipython",
    "version": 3
   },
   "file_extension": ".py",
   "mimetype": "text/x-python",
   "name": "python",
   "nbconvert_exporter": "python",
   "pygments_lexer": "ipython3",
   "version": "3.9.12"
  }
 },
 "nbformat": 4,
 "nbformat_minor": 2
}
