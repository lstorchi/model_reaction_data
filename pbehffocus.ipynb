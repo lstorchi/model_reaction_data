{
 "cells": [
  {
   "cell_type": "code",
   "execution_count": null,
   "metadata": {},
   "outputs": [],
   "source": [
    "from sklearn.cross_decomposition import PLSRegression\n",
    "from sklearn.ensemble import RandomForestRegressor\n",
    "from sklearn.inspection import permutation_importance\n",
    "from sklearn.metrics import mean_squared_error, r2_score\n",
    "from sklearn.model_selection import train_test_split\n",
    "\n",
    "import numpy as np \n",
    "import re\n",
    "\n",
    "import pandas as pd\n",
    "import seaborn as sns\n",
    "import matplotlib.pyplot as plt"
   ]
  },
  {
   "cell_type": "markdown",
   "metadata": {},
   "source": [
    "Define basic data structures and config"
   ]
  },
  {
   "cell_type": "code",
   "execution_count": null,
   "metadata": {},
   "outputs": [],
   "source": [
    "howmanydifs = 3\n",
    "rootdirqdata = '../datasets/qdata/'\n",
    "rootdirdata = '../datasets/data/'"
   ]
  },
  {
   "cell_type": "code",
   "execution_count": null,
   "metadata": {},
   "outputs": [],
   "source": [
    "import models\n",
    "import commonutils\n",
    "\n",
    "molnames, labels, diffs_toothermethods, chemical_reacts, \\\n",
    "        stechio_ceofs, moldescriptors, chemicals_descriptors , \\\n",
    "        pbe_hf_nonenergy_descriptors, pbe_diff_energy_descriptors, \\\n",
    "        hf_diff_energy_descriptors = \\\n",
    "            commonutils.readandcheckdata(rootdirqdata, rootdirdata, howmanydifs)   \n",
    "\n",
    "print(\"\")\n",
    "print(\"Number of descriptors:\", len(moldescriptors[0]))\n",
    "print(\"\")\n",
    "print(\"Number of labels         :\", len(labels))\n",
    "print(\"Number of names          :\", len(molnames))\n",
    "print(\"Number of differences    :\", len(diffs_toothermethods))\n",
    "print(\"Number of chemicals      :\", len(chemical_reacts))\n",
    "print(\"Number of stechio ceofs  :\", len(stechio_ceofs))\n",
    "print(\"Number of moldescriptors :\", len(moldescriptors))\n",
    "print(\"\")\n",
    "print(\"Number of chemicals descriptors:\", len(chemicals_descriptors))\n",
    "print(\"\")\n",
    "print(\"Number of pbe_hf_nonenergy_descriptors:\", len(pbe_hf_nonenergy_descriptors))\n",
    "print(\"Number of pbe_diff_energy_descriptors :\", len(pbe_diff_energy_descriptors))\n",
    "print(\"Number of hf_diff_energy_descriptors  :\", len(hf_diff_energy_descriptors))"
   ]
  },
  {
   "cell_type": "markdown",
   "metadata": {},
   "source": [
    "Check error respect to QM methods"
   ]
  },
  {
   "cell_type": "code",
   "execution_count": null,
   "metadata": {},
   "outputs": [],
   "source": [
    "for methodid in range(howmanydifs):\n",
    "    y_pred = []\n",
    "    for i, molname in enumerate(molnames):\n",
    "        y_pred.append(labels[i] + diffs_toothermethods[i][methodid])\n",
    "\n",
    "    # plot a scatterplot of the true vs predicted values\n",
    "    #plt.figure(figsize=(10,10))\n",
    "    #plt.scatter(labels, y_pred, c='crimson')\n",
    "    #plt.xlabel('True')\n",
    "    #plt.ylabel('Predicted Values')\n",
    "    \n",
    "    print(\"Method\", methodid+1, \"R2 score  :\", r2_score(labels, y_pred))\n",
    "    print(\"Method\", methodid+1, \"RMSE score:\", mean_squared_error(labels, y_pred, squared=False))\n",
    "\n",
    "y_pred = []\n",
    "autokcalmol = 627.5096080305927\n",
    "for mi, molname in enumerate(molnames):\n",
    "    #print(molname)\n",
    "    oury = moldescriptors[mi][\"PBE_FINAL_SINGLE_POINT_ENERGY\"]\n",
    "    si = 1\n",
    "    tosub = 0.0\n",
    "    for ci, chem in enumerate(chemical_reacts[mi]):\n",
    "        stecchio = stechio_ceofs[mi][si]\n",
    "        tosub += stecchio*chemicals_descriptors[chem][\"PBE_FINAL_SINGLE_POINT_ENERGY\"]\n",
    "        si += 1\n",
    "        \n",
    "    y_pred.append(autokcalmol*(tosub-oury))\n",
    "    #print(molname, oury, tosub, 627.51* (tosub-oury), labels[mi])\n",
    "\n",
    "# plot a scatterplot of the true vs predicted values\n",
    "#plt.figure(figsize=(10,10))\n",
    "#plt.scatter(labels, y_pred, c='crimson')\n",
    "#plt.xlabel('True')\n",
    "#plt.ylabel('Predicted Values')\n",
    "\n",
    "print(\"\")\n",
    "print(\"Our PBE R2 score  :\", r2_score(labels, y_pred))\n",
    "print(\"Our PBE RMSE score:\", mean_squared_error(labels, y_pred, squared=False))  \n",
    "     "
   ]
  },
  {
   "cell_type": "markdown",
   "metadata": {},
   "source": [
    "Some correlation"
   ]
  },
  {
   "cell_type": "code",
   "execution_count": null,
   "metadata": {},
   "outputs": [],
   "source": [
    "fulldescriptors =[]\n",
    "\n",
    "for idx, _ in enumerate(molnames):\n",
    "    fulldescriptors.append({})\n",
    "    fulldescriptors[idx].update(pbe_hf_nonenergy_descriptors[idx])\n",
    "    fulldescriptors[idx].update(hf_diff_energy_descriptors[idx])\n",
    "    fulldescriptors[idx].update(pbe_diff_energy_descriptors[idx])\n",
    "\n",
    "moldescriptors_featues, Y, features_names = \\\n",
    "    commonutils.build_features_matrix_and_labels (molnames, fulldescriptors, labels)\n",
    "\n",
    "df = pd.DataFrame(moldescriptors_featues, columns=features_names)\n",
    "\n",
    "top_corr = commonutils.get_top_correlations_blog(df, 0.8)\n",
    "for tc in top_corr:\n",
    "    print(tc)\n"
   ]
  },
  {
   "cell_type": "markdown",
   "metadata": {},
   "source": [
    "PLS models "
   ]
  },
  {
   "cell_type": "code",
   "execution_count": null,
   "metadata": {},
   "outputs": [],
   "source": [
    "\n",
    "def run_all_pls (moldescriptors_featues, Y):\n",
    "    maxcomp = moldescriptors_featues.shape[1]\n",
    "    # search fo the best number od components and build final model\n",
    "    perc_split = 0.2\n",
    "    ncomps, rmses_test, rmses_train, r2s_test, r2s_train = \\\n",
    "        models.pls_model (0.2, moldescriptors_featues, Y, \\\n",
    "                      ncomp_start = 1, ncomp_max = maxcomp)\n",
    "    r2max_comps = np.argmax(r2s_test)+1\n",
    "    rmsemin_comps = np.argmin(rmses_test)+1\n",
    "    compstouse = min(rmsemin_comps, r2max_comps)\n",
    "\n",
    "    perc_split = 0.2\n",
    "    rmse_train, rmse_test, r2_train, r2_test, rmse_full, r2_full , \\\n",
    "        plsmodel, X_train, X_test, y_train, y_test  = \\\n",
    "        models.pls_model (0.2, moldescriptors_featues, Y, False, compstouse)\n",
    "    perc_split = 0.0\n",
    "    rmse, r2 = models.pls_model (perc_split, moldescriptors_featues, Y, False, \\\n",
    "                  compstouse, leaveoneout=True)\n",
    "    \n",
    "    return compstouse, rmse, r2, rmse_full, r2_full, rmse_test, r2_test, rmse_train, r2_train, \\\n",
    "        plsmodel, X_train, X_test, y_train, y_test\n",
    "\n",
    "fulldescriptors =[]\n",
    "for idx, _ in enumerate(molnames):\n",
    "    fulldescriptors.append({})\n",
    "    fulldescriptors[idx].update(pbe_hf_nonenergy_descriptors[idx])\n",
    "    fulldescriptors[idx].update(hf_diff_energy_descriptors[idx])\n",
    "    fulldescriptors[idx].update(pbe_diff_energy_descriptors[idx])\n",
    "\n",
    "fullenergydescriptors = {}\n",
    "for idx, _ in enumerate(molnames):\n",
    "    fullenergydescriptors[idx] = {}\n",
    "    fullenergydescriptors[idx].update(hf_diff_energy_descriptors[idx])\n",
    "    fullenergydescriptors[idx].update(pbe_diff_energy_descriptors[idx])\n",
    "\n",
    "print(\"Num. of Comp , LoO RMSE , LoO R2 , RMSE , R2 , RMSE Test , R2 Test , RMSE Train , R2 Train\")\n",
    "for desctouse in  [pbe_diff_energy_descriptors, hf_diff_energy_descriptors, \\\n",
    "                   fulldescriptors, fullenergydescriptors]:\n",
    "    moldescriptors_featues, Y, features_names = \\\n",
    "        commonutils.build_features_matrix_and_labels (molnames, desctouse , labels)\n",
    "    compstouse, rmse, r2, rmse_full, r2_full, rmse_test, r2_test, rmse_train, r2_train , \\\n",
    "        plsmodel, X_train, X_test, y_train, y_test = \\\n",
    "        run_all_pls (moldescriptors_featues, Y) \n",
    "    print (compstouse, \" , \" ,\\\n",
    "            rmse, \" , \" ,\\\n",
    "            r2, \" , \" ,\\\n",
    "            rmse_full, \" , \" ,\\\n",
    "            r2_full, \" , \" ,\\\n",
    "            rmse_test, \" , \" ,\\\n",
    "            r2_test, \" , \" ,\\\n",
    "            rmse_train, \" , \" ,\\\n",
    "            r2_train )\n"
   ]
  },
  {
   "cell_type": "markdown",
   "metadata": {},
   "source": [
    "PCA to see how many components"
   ]
  },
  {
   "cell_type": "code",
   "execution_count": null,
   "metadata": {},
   "outputs": [],
   "source": [
    "from sklearn.decomposition import PCA\n",
    "\n",
    "for desctouse in  [pbe_diff_energy_descriptors, hf_diff_energy_descriptors, \\\n",
    "                   fulldescriptors, fullenergydescriptors]:\n",
    "    X, Y, features_names = \\\n",
    "        commonutils.build_features_matrix_and_labels (molnames, desctouse , labels)\n",
    "    pca = PCA(n_components=3)\n",
    "    fit = pca.fit(X)\n",
    "    # summarize components\n",
    "    print(\"Explained Variance: %s\" % fit.explained_variance_ratio_)\n",
    "    #print(fit.components_)"
   ]
  },
  {
   "cell_type": "markdown",
   "metadata": {},
   "source": [
    "Try using Permutation feature importance"
   ]
  },
  {
   "cell_type": "code",
   "execution_count": null,
   "metadata": {},
   "outputs": [],
   "source": [
    "from sklearn.inspection import permutation_importance\n",
    "\n",
    "for desctouse in  [pbe_diff_energy_descriptors, hf_diff_energy_descriptors, \\\n",
    "                   fulldescriptors, fullenergydescriptors]:\n",
    "    moldescriptors_featues, Y, features_names = \\\n",
    "        commonutils.build_features_matrix_and_labels (molnames, desctouse , labels)\n",
    "    compstouse, rmse, r2, rmse_full, r2_full, rmse_test, r2_test, rmse_train, r2_train , \\\n",
    "        plsmodel, X_train, X_test, y_train, y_test = \\\n",
    "        run_all_pls (moldescriptors_featues, Y) \n",
    "    \n",
    "    scoring = ['r2', 'neg_mean_absolute_percentage_error', 'neg_mean_squared_error']\n",
    "    \n",
    "    r_multi = permutation_importance(plsmodel, X_test, y_test, n_repeats=30, \\\n",
    "                                random_state=0, scoring=scoring)\n",
    "    \n",
    "    for metric in r_multi:\n",
    "        print(f\"{metric}\")\n",
    "        r = r_multi[metric]\n",
    "        for i in r.importances_mean.argsort()[::-1]:\n",
    "            if r.importances_mean[i] - 2 * r.importances_std[i] > 0:\n",
    "                print(f\"{features_names[i]:<30}\"\n",
    "                  f\"{r.importances_mean[i]:.3e}\"\n",
    "                  f\" +/- {r.importances_std[i]:.3e}\")\n",
    "        print(\"\")\n"
   ]
  },
  {
   "cell_type": "markdown",
   "metadata": {},
   "source": [
    "Focus on fulldescriptors using only energy"
   ]
  },
  {
   "cell_type": "code",
   "execution_count": null,
   "metadata": {},
   "outputs": [],
   "source": [
    "fullenergydescriptors = {}\n",
    "for idx, _ in enumerate(molnames):\n",
    "    fullenergydescriptors[idx] = {}\n",
    "    fullenergydescriptors[idx].update(hf_diff_energy_descriptors[idx])\n",
    "    fullenergydescriptors[idx].update(pbe_diff_energy_descriptors[idx])\n",
    "\n",
    "print(\"Num. of Comp , LoO RMSE , LoO R2 , RMSE , R2 , RMSE Test , R2 Test , RMSE Train , R2 Train\")\n",
    "\n",
    "moldescriptors_featues, Y, features_names = \\\n",
    "        commonutils.build_features_matrix_and_labels (molnames, fullenergydescriptors , labels)\n",
    "compstouse, rmse, r2, rmse_full, r2_full, rmse_test, r2_test, rmse_train, r2_train , \\\n",
    "        plsmodel, X_train, X_test, y_train, y_test = \\\n",
    "        run_all_pls (moldescriptors_featues, Y) \n",
    "print (compstouse, \" , \" ,\\\n",
    "            rmse, \" , \" ,\\\n",
    "            r2, \" , \" ,\\\n",
    "            rmse_full, \" , \" ,\\\n",
    "            r2_full, \" , \" ,\\\n",
    "            rmse_test, \" , \" ,\\\n",
    "            r2_test, \" , \" ,\\\n",
    "            rmse_train, \" , \" ,\\\n",
    "            r2_train )\n",
    "\n",
    "scoring = ['r2', 'neg_mean_absolute_percentage_error', 'neg_mean_squared_error']\n",
    "    \n",
    "r_multi = permutation_importance(plsmodel, X_test, y_test, n_repeats=30, \\\n",
    "                                random_state=0, scoring=scoring)\n",
    "    \n",
    "for metric in r_multi:\n",
    "    print(f\"{metric}\")\n",
    "    r = r_multi[metric]\n",
    "    for i in r.importances_mean.argsort()[::-1]:\n",
    "        if r.importances_mean[i] - 2 * r.importances_std[i] > 0:\n",
    "            print(f\"{features_names[i]:<30}\"\n",
    "                f\"{r.importances_mean[i]:.3e}\"\n",
    "                f\" +/- {r.importances_std[i]:.3e}\")\n",
    "    print(\"\")"
   ]
  },
  {
   "cell_type": "markdown",
   "metadata": {},
   "source": [
    "Manual prediction "
   ]
  },
  {
   "cell_type": "code",
   "execution_count": null,
   "metadata": {},
   "outputs": [],
   "source": [
    "X = X_test.copy()\n",
    "X -= plsmodel._x_mean\n",
    "X /= plsmodel._x_std\n",
    "Ypred = np.dot(X, plsmodel.coef_)\n",
    "#Ypred = np.dot(X, plsmodel.coef_.T)\n",
    "Ypred += plsmodel._y_mean\n",
    "\n",
    "print(Ypred)\n",
    "plsmodel.predict(X_test)"
   ]
  },
  {
   "cell_type": "markdown",
   "metadata": {},
   "source": [
    "Test using NN"
   ]
  },
  {
   "cell_type": "code",
   "execution_count": null,
   "metadata": {},
   "outputs": [],
   "source": [
    "fullenergydescriptors = {}\n",
    "for idx, _ in enumerate(molnames):\n",
    "    fullenergydescriptors[idx] = {}\n",
    "    fullenergydescriptors[idx].update(hf_diff_energy_descriptors[idx])\n",
    "    fullenergydescriptors[idx].update(pbe_diff_energy_descriptors[idx])\n",
    "\n",
    "moldescriptors_featues, Y, features_names = \\\n",
    "        commonutils.build_features_matrix_and_labels (molnames, fullenergydescriptors , labels)\n",
    "perc_split = 0.20\n",
    "\n",
    "modelshapes = [[2, 32, 64, 128, 32], \\\n",
    "                [2, 16, 32, 64, 128, 32],\\\n",
    "                [2, 16, 32, 64, 128, 32, 16],\\\n",
    "                [2, 8, 16, 32, 64, 32, 16, 8],\\\n",
    "                [ 8,  8,  8,  8, 8],\\\n",
    "                [16, 16, 16, 16, 16],\\\n",
    "                [32, 32, 32, 32, 32],\\\n",
    "                [64, 64, 64, 64, 64],\\\n",
    "                [128, 128, 128, 128, 128],\\\n",
    "                [ 8,  8,  8,  8],\\\n",
    "                [16, 16, 16, 16],\\\n",
    "                [32, 32, 32, 32],\\\n",
    "                [64, 64, 64, 64],\\\n",
    "                [128, 128, 128, 128],\\\n",
    "                [ 8,  8,  8],\\\n",
    "                [16, 16, 16],\\\n",
    "                [32, 32, 32],\\\n",
    "                [64, 64, 64],\\\n",
    "                [128, 128, 128]]\n",
    "\n",
    "min_rmsemodel, maxr2_model = \\\n",
    "    models.nn_model (perc_split, moldescriptors_featues, Y, \n",
    "                    nepochs=[10, 20], \\\n",
    "                    modelshapes=modelshapes, \\\n",
    "                    batch_sizes=[8, 16, 32], \\\n",
    "                    inputshape=-1, \\\n",
    "                    search = True)"
   ]
  },
  {
   "cell_type": "markdown",
   "metadata": {},
   "source": [
    "Test using RF"
   ]
  },
  {
   "cell_type": "code",
   "execution_count": null,
   "metadata": {},
   "outputs": [],
   "source": [
    "fullenergydescriptors = {}\n",
    "for idx, _ in enumerate(molnames):\n",
    "    fullenergydescriptors[idx] = {}\n",
    "    fullenergydescriptors[idx].update(hf_diff_energy_descriptors[idx])\n",
    "    fullenergydescriptors[idx].update(pbe_diff_energy_descriptors[idx])\n",
    "\n",
    "moldescriptors_featues, Y, features_names = \\\n",
    "        build_features_matrix_and_labels (molnames, fullenergydescriptors , labels)\n",
    "perc_split = 0.20\n",
    "min_train_rmse_hyper, min_test_rmse_hyper, max_train_r2_hyper, max_test_r2_hyper = \\\n",
    "    models.rf_model (perc_split, moldescriptors_featues, Y, search = True)"
   ]
  },
  {
   "cell_type": "code",
   "execution_count": null,
   "metadata": {},
   "outputs": [],
   "source": [
    "for d in [min_train_rmse_hyper, min_test_rmse_hyper, max_train_r2_hyper, max_test_r2_hyper]:\n",
    "    perc_split = 0.2\n",
    "    train_rmse, test_rmse, r2_train, r2_test, model, \\\n",
    "              X_train, X_test, y_train, y_test = \\\n",
    "        models.rf_model (0.2, moldescriptors_featues, Y, False, [d['n_estimators']], \\\n",
    "                     [d['max_depth']], [d['min_samples_split']], \\\n",
    "                     [d['min_samples_leaf']], [d['random_state']], \\\n",
    "                     [d['bootstrap']], [d['max_features']])\n",
    "    \n",
    "    print (train_rmse, \" , \" ,\\\n",
    "           test_rmse , \" , \" ,\\\n",
    "           r2_train , \" , \" ,\\\n",
    "           r2_test)"
   ]
  }
 ],
 "metadata": {
  "kernelspec": {
   "display_name": "my-rdkit-env",
   "language": "python",
   "name": "python3"
  },
  "language_info": {
   "codemirror_mode": {
    "name": "ipython",
    "version": 3
   },
   "file_extension": ".py",
   "mimetype": "text/x-python",
   "name": "python",
   "nbconvert_exporter": "python",
   "pygments_lexer": "ipython3",
   "version": "3.9.9"
  }
 },
 "nbformat": 4,
 "nbformat_minor": 2
}
