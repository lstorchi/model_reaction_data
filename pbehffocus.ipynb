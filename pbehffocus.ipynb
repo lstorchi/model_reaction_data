{
 "cells": [
  {
   "cell_type": "code",
   "execution_count": 1,
   "metadata": {},
   "outputs": [],
   "source": [
    "from rdkit import Chem\n",
    "from rdkit.Chem import rdFingerprintGenerator\n",
    "from rdkit.Chem.Draw import IPythonConsole\n",
    "from rdkit import DataStructs\n",
    "import rdkit\n",
    "import os \n",
    "\n",
    "import matplotlib.pyplot as plt\n",
    "\n",
    "from sklearn.cross_decomposition import PLSRegression\n",
    "from sklearn.ensemble import RandomForestRegressor\n",
    "from sklearn.inspection import permutation_importance\n",
    "from sklearn.metrics import mean_squared_error, r2_score\n",
    "from sklearn.model_selection import (LeaveOneOut, cross_val_predict,\n",
    "                                     cross_val_score, train_test_split)\n",
    "\n",
    "import numpy as np \n",
    "\n",
    "from rdkit.Chem import Descriptors\n",
    "#print(len(Descriptors._descList))\n",
    "#print(Descriptors._descList[:5])\n",
    "#print(rdkit.__version__)\n",
    "\n",
    "from contextlib import contextmanager,redirect_stderr,redirect_stdout\n",
    "from os import devnull\n",
    "\n",
    "@contextmanager\n",
    "def suppress_stdout_stderr():\n",
    "    \"\"\"A context manager that redirects stdout and stderr to devnull\"\"\"\n",
    "    with open(devnull, 'w') as fnull:\n",
    "        with redirect_stderr(fnull) as err, redirect_stdout(fnull) as out:\n",
    "            yield (err, out)"
   ]
  },
  {
   "cell_type": "markdown",
   "metadata": {},
   "source": [
    "DEfine basic data structures and config"
   ]
  },
  {
   "cell_type": "code",
   "execution_count": 2,
   "metadata": {},
   "outputs": [],
   "source": [
    "# those are the output data\n",
    "molnames = []\n",
    "labels = []\n",
    "diffs_toothermethods = []\n",
    "chemical_reacts = []\n",
    "stechio_ceofs = []\n",
    "moldescriptors = []\n",
    "\n",
    "howmanydifs = 3\n",
    "rootdirqdata = './qdata/'\n",
    "rootdirdata = './data/'"
   ]
  },
  {
   "cell_type": "markdown",
   "metadata": {},
   "source": [
    "Read molecules labels and more"
   ]
  },
  {
   "cell_type": "code",
   "execution_count": 3,
   "metadata": {},
   "outputs": [
    {
     "name": "stdout",
     "output_type": "stream",
     "text": [
      "\n",
      "Number of labels         : 140\n",
      "Number of names          : 140\n",
      "Number of differences    : 140\n",
      "Number of chemicals      : 140\n",
      "Number of stechio ceofs  : 140\n",
      "Number of moldescriptors : 140\n"
     ]
    }
   ],
   "source": [
    "\n",
    "fp = open(rootdirdata + '/labels.txt', 'r')\n",
    "\n",
    "for line in fp:\n",
    "    sline = line.replace(\"\\t\", \" \").replace(\"\\n\", \"\").rstrip().lstrip().split()\n",
    "    molname = sline[1]\n",
    "    \n",
    "    difvals = []   \n",
    "    for i in range(howmanydifs):\n",
    "        difvals.append(float(sline[-1*i]))\n",
    "\n",
    "    schechio = []\n",
    "    reacts = []\n",
    "    for i in range(2,len(sline)-howmanydifs-1):\n",
    "        nospace = sline[i].replace(\" \", \"\")\n",
    "        if nospace.isdigit():\n",
    "            schechio.append(int(nospace))\n",
    "        elif nospace.startswith(\"-\") and nospace[1:].isdigit():\n",
    "            schechio.append(int(nospace))\n",
    "        else:\n",
    "            reacts.append(nospace)\n",
    "\n",
    "    stechio_ceofs.append(schechio)\n",
    "    chemical_reacts.append(reacts)\n",
    "    diffs_toothermethods.append(difvals)\n",
    "    labels.append(float(sline[-1*howmanydifs-1]))\n",
    "    molnames.append(molname)\n",
    "    moldescriptors.append({})\n",
    "\n",
    "fp.close()\n",
    "\n",
    "print(\"\")\n",
    "print(\"Number of labels         :\", len(labels))\n",
    "print(\"Number of names          :\", len(molnames))\n",
    "print(\"Number of differences    :\", len(diffs_toothermethods))\n",
    "print(\"Number of chemicals      :\", len(chemical_reacts))\n",
    "print(\"Number of stechio ceofs  :\", len(stechio_ceofs))\n",
    "print(\"Number of moldescriptors :\", len(moldescriptors))"
   ]
  },
  {
   "cell_type": "markdown",
   "metadata": {},
   "source": [
    "Read PBE data"
   ]
  },
  {
   "cell_type": "code",
   "execution_count": 4,
   "metadata": {},
   "outputs": [
    {
     "name": "stdout",
     "output_type": "stream",
     "text": [
      "\n",
      "Number of labels         : 140\n",
      "Number of names          : 140\n",
      "Number of differences    : 140\n",
      "Number of chemicals      : 140\n",
      "Number of stechio ceofs  : 140\n",
      "Number of moldescriptors : 140\n"
     ]
    }
   ],
   "source": [
    "import re\n",
    "\n",
    "pbelist = [\"Nuclear Repulsion  :\", \\\n",
    "            \"One Electron Energy:\", \\\n",
    "            \"Two Electron Energy:\", \\\n",
    "            \"Potential Energy   :\", \\\n",
    "            \"Kinetic Energy     :\", \\\n",
    "            \"E(X)               :\"  , \\\n",
    "            \"E(C)               :\"  , \\\n",
    "            \"Dispersion correction\", \\\n",
    "            \"Total Charge\"   , \\\n",
    "            \"Multiplicity\"   , \\\n",
    "            \"Number of Electrons\"]\n",
    "\n",
    "pbedescriptor = {}\n",
    "\n",
    "for file in os.listdir(rootdirqdata+'/PBE/'):\n",
    "    if file.endswith('.out'):\n",
    "        molname = file.split('.out')[0]\n",
    "        molname = re.split(\"\\.mpi\\d+\", molname)[0]\n",
    "        #print(molname)\n",
    "        moldesc = {}\n",
    "        fp = open(rootdirqdata+'/PBE/'+file, 'r')\n",
    "        for line in fp:\n",
    "            for val in pbelist:\n",
    "                if line.find(val) != -1:\n",
    "                    keyval = val.replace(\":\", \"\").rstrip().lstrip().replace(\" \", \"_\")\n",
    "                    sline = line.rstrip().lstrip().split()\n",
    "                    for sval in sline:\n",
    "                        try:\n",
    "                            firstnumvalue = float(sval)\n",
    "                            break\n",
    "                        except:\n",
    "                            continue\n",
    "                    \n",
    "                    moldesc[keyval] = firstnumvalue\n",
    "                    #print(molname, keyval, sval)\n",
    "        fp.close()\n",
    "        pbedescriptor[molname] = moldesc\n",
    "\n",
    "for i, molname in enumerate(molnames):\n",
    "    if molname in pbedescriptor:\n",
    "        moldescriptors[i][\"PBE_Total_Charge\"] = pbedescriptor[molname][\"Total_Charge\"]\n",
    "        moldescriptors[i][\"PBE_Multiplicity\"] = pbedescriptor[molname][\"Multiplicity\"]\n",
    "        moldescriptors[i][\"PBE_Number_of_Electrons\"] = pbedescriptor[molname][\"Number_of_Electrons\"]\n",
    "        moldescriptors[i][\"PBE_Nuclear_Repulsion\"] = pbedescriptor[molname][\"Nuclear_Repulsion\"]\n",
    "        moldescriptors[i][\"PBE_One_Electron_Energy\"] = pbedescriptor[molname][\"One_Electron_Energy\"]\n",
    "        moldescriptors[i][\"PBE_Two_Electron_Energy\"] = pbedescriptor[molname][\"Two_Electron_Energy\"]\n",
    "        moldescriptors[i][\"PBE_Potential_Energy\"] = pbedescriptor[molname][\"Potential_Energy\"]\n",
    "        moldescriptors[i][\"PBE_Kinetic_Energy\"] = pbedescriptor[molname][\"Kinetic_Energy\"]\n",
    "        moldescriptors[i][\"PBE_E(X)\"] = pbedescriptor[molname][\"E(X)\"]\n",
    "        moldescriptors[i][\"PBE_E(C)\"] = pbedescriptor[molname][\"E(C)\"]\n",
    "        moldescriptors[i][\"PBE_Dispersion_correction\"] = \\\n",
    "            pbedescriptor[molname][\"Dispersion_correction\"]\n",
    "    else:\n",
    "        print(molname + \" not found in PBE descriptors\")\n",
    "\n",
    "print(\"\")\n",
    "print(\"Number of labels         :\", len(labels))\n",
    "print(\"Number of names          :\", len(molnames))\n",
    "print(\"Number of differences    :\", len(diffs_toothermethods))\n",
    "print(\"Number of chemicals      :\", len(chemical_reacts))\n",
    "print(\"Number of stechio ceofs  :\", len(stechio_ceofs))\n",
    "print(\"Number of moldescriptors :\", len(moldescriptors))"
   ]
  },
  {
   "cell_type": "markdown",
   "metadata": {},
   "source": [
    "Read HF data"
   ]
  },
  {
   "cell_type": "code",
   "execution_count": 5,
   "metadata": {},
   "outputs": [
    {
     "name": "stdout",
     "output_type": "stream",
     "text": [
      "\n",
      "Number of labels         : 140\n",
      "Number of names          : 140\n",
      "Number of differences    : 140\n",
      "Number of chemicals      : 140\n",
      "Number of stechio ceofs  : 140\n",
      "Number of moldescriptors : 140\n"
     ]
    }
   ],
   "source": [
    "\n",
    "hflist = [\"Nuclear Repulsion  :\", \\\n",
    "          \"One Electron Energy:\", \\\n",
    "          \"Two Electron Energy:\", \\\n",
    "          \"Potential Energy   :\", \\\n",
    "          \"Kinetic Energy     :\", \\\n",
    "          \"Dispersion correction\", \\\n",
    "          \"Total Charge\", \\\n",
    "          \"Multiplicity\", \\\n",
    "          \"Number of Electrons\"]\n",
    "\n",
    "hfdescriptor = {}\n",
    "\n",
    "for file in os.listdir(rootdirqdata+'/HF/'):\n",
    "    if file.endswith('.out'):\n",
    "        molname = file.split('.out')[0]\n",
    "        molname = re.split(\"\\.mpi\\d+\", molname)[0]\n",
    "        #print(molname)\n",
    "        moldesc = {}\n",
    "        fp = open(rootdirqdata+'/HF/'+file, 'r')\n",
    "        for line in fp:\n",
    "            for val in hflist:\n",
    "                if line.find(val) != -1:\n",
    "                    keyval = val.replace(\":\", \"\").rstrip().lstrip().replace(\" \", \"_\")\n",
    "                    sline = line.rstrip().lstrip().split()\n",
    "                    for sval in sline:\n",
    "                        try:\n",
    "                            firstnumvalue = float(sval)\n",
    "                            break\n",
    "                        except:\n",
    "                            continue\n",
    "                    \n",
    "                    moldesc[keyval] = firstnumvalue\n",
    "                    #print(molname, keyval, sval)\n",
    "        fp.close()\n",
    "        hfdescriptor[molname] = moldesc\n",
    "\n",
    "for i, molname in enumerate(molnames):\n",
    "    if molname in pbedescriptor:\n",
    "        moldescriptors[i][\"HF_Total_Charge\"] = hfdescriptor[molname][\"Total_Charge\"]\n",
    "        moldescriptors[i][\"HF_Multiplicity\"] = hfdescriptor[molname][\"Multiplicity\"]\n",
    "        moldescriptors[i][\"HF_Number_of_Electrons\"] = hfdescriptor[molname][\"Number_of_Electrons\"]\n",
    "        moldescriptors[i][\"HF_Nuclear_Repulsion\"] = hfdescriptor[molname][\"Nuclear_Repulsion\"]\n",
    "        moldescriptors[i][\"HF_One_Electron_Energy\"] = hfdescriptor[molname][\"One_Electron_Energy\"]\n",
    "        moldescriptors[i][\"HF_Two_Electron_Energy\"] = hfdescriptor[molname][\"Two_Electron_Energy\"]\n",
    "        moldescriptors[i][\"HF_Potential_Energy\"] = hfdescriptor[molname][\"Potential_Energy\"]\n",
    "        moldescriptors[i][\"HF_Kinetic_Energy\"] = hfdescriptor[molname][\"Kinetic_Energy\"]\n",
    "        moldescriptors[i][\"HF_Dispersion_correction\"] = \\\n",
    "            hfdescriptor[molname][\"Dispersion_correction\"]\n",
    "    else:\n",
    "        print(molname + \" not found in HF descriptors\")\n",
    "\n",
    "\n",
    "print(\"\")\n",
    "print(\"Number of labels         :\", len(labels))\n",
    "print(\"Number of names          :\", len(molnames))\n",
    "print(\"Number of differences    :\", len(diffs_toothermethods))\n",
    "print(\"Number of chemicals      :\", len(chemical_reacts))\n",
    "print(\"Number of stechio ceofs  :\", len(stechio_ceofs))\n",
    "print(\"Number of moldescriptors :\", len(moldescriptors))"
   ]
  },
  {
   "cell_type": "markdown",
   "metadata": {},
   "source": [
    "Remove molecules with some missing descriptor"
   ]
  },
  {
   "cell_type": "code",
   "execution_count": 6,
   "metadata": {},
   "outputs": [
    {
     "name": "stdout",
     "output_type": "stream",
     "text": [
      "\n",
      "Number of labels         : 140\n",
      "Number of names          : 140\n",
      "Number of differences    : 140\n",
      "Number of chemicals      : 140\n",
      "Number of stechio ceofs  : 140\n",
      "Number of moldescriptors : 140\n"
     ]
    }
   ],
   "source": [
    "alldims = set([len(val) for val in moldescriptors])\n",
    "idxtoremovs = []\n",
    "for i, val in enumerate(moldescriptors):\n",
    "    if len(val) != max(alldims):\n",
    "        idxtoremovs.append(i)\n",
    "\n",
    "for i in sorted(idxtoremovs, reverse=True):\n",
    "    print(\"Molname to remove:\", molnames[i], \"index:\", i)\n",
    "    del moldescriptors[i]\n",
    "    del labels[i]\n",
    "    del molnames[i]\n",
    "    del diffs_toothermethods[i]\n",
    "    del chemical_reacts[i]\n",
    "    del stechio_ceofs[i]\n",
    "\n",
    "print(\"\")\n",
    "print(\"Number of labels         :\", len(labels))\n",
    "print(\"Number of names          :\", len(molnames))\n",
    "print(\"Number of differences    :\", len(diffs_toothermethods))\n",
    "print(\"Number of chemicals      :\", len(chemical_reacts))\n",
    "print(\"Number of stechio ceofs  :\", len(stechio_ceofs))\n",
    "print(\"Number of moldescriptors :\", len(moldescriptors))"
   ]
  },
  {
   "cell_type": "markdown",
   "metadata": {},
   "source": [
    "Remove molecules with None Label "
   ]
  },
  {
   "cell_type": "code",
   "execution_count": 7,
   "metadata": {},
   "outputs": [
    {
     "name": "stdout",
     "output_type": "stream",
     "text": [
      "\n",
      "Number of labels         : 140\n",
      "Number of names          : 140\n",
      "Number of differences    : 140\n",
      "Number of chemicals      : 140\n",
      "Number of stechio ceofs  : 140\n",
      "Number of moldescriptors : 140\n"
     ]
    }
   ],
   "source": [
    "for i, v in enumerate(labels):\n",
    "    if v is None:\n",
    "        print(\"None value found in labels:\", i, molnames[i])\n",
    "        del moldescriptors[i]\n",
    "        del labels[i]\n",
    "        del molnames[i]\n",
    "        del diffs_toothermethods[i]\n",
    "        del chemical_reacts[i]\n",
    "        del stechio_ceofs[i]\n",
    "\n",
    "print(\"\")\n",
    "print(\"Number of labels         :\", len(labels))\n",
    "print(\"Number of names          :\", len(molnames))\n",
    "print(\"Number of differences    :\", len(diffs_toothermethods))\n",
    "print(\"Number of chemicals      :\", len(chemical_reacts))\n",
    "print(\"Number of stechio ceofs  :\", len(stechio_ceofs))\n",
    "print(\"Number of moldescriptors :\", len(moldescriptors))"
   ]
  },
  {
   "cell_type": "markdown",
   "metadata": {},
   "source": [
    "If a descriptor is nan at least for a molecule remove from all"
   ]
  },
  {
   "cell_type": "code",
   "execution_count": 8,
   "metadata": {},
   "outputs": [
    {
     "name": "stdout",
     "output_type": "stream",
     "text": [
      "Removing the following Descriptors  set()\n",
      "Removing  0  descriptors\n",
      "\n",
      "Number of descriptors: 20\n",
      "\n",
      "\n",
      "Number of labels         : 140\n",
      "Number of names          : 140\n",
      "Number of differences    : 140\n",
      "Number of chemicals      : 140\n",
      "Number of stechio ceofs  : 140\n",
      "Number of moldescriptors : 140\n"
     ]
    }
   ],
   "source": [
    "import math \n",
    "\n",
    "nandescriptors = set()\n",
    "for index, molname in enumerate(molnames):\n",
    "    if any(math.isnan(val) for val in moldescriptors[index].values()):\n",
    "        print(\"Nan value found in descriptors:\", molname)\n",
    "        for k,v in moldescriptors[index].items():\n",
    "            if math.isnan(v):\n",
    "                nandescriptors.add(k)\n",
    "\n",
    "print(\"Removing the following Descriptors \", nandescriptors)\n",
    "print(\"Removing \", len(nandescriptors), \" descriptors\")\n",
    "for i, v in enumerate(moldescriptors):\n",
    "    for k in nandescriptors:\n",
    "        del moldescriptors[i][k]\n",
    "\n",
    "\n",
    "print(\"\")\n",
    "print(\"Number of descriptors:\", len(moldescriptors[0]))\n",
    "print(\"\")\n",
    "print(\"\")\n",
    "print(\"Number of labels         :\", len(labels))\n",
    "print(\"Number of names          :\", len(molnames))\n",
    "print(\"Number of differences    :\", len(diffs_toothermethods))\n",
    "print(\"Number of chemicals      :\", len(chemical_reacts))\n",
    "print(\"Number of stechio ceofs  :\", len(stechio_ceofs))\n",
    "print(\"Number of moldescriptors :\", len(moldescriptors))"
   ]
  },
  {
   "cell_type": "markdown",
   "metadata": {},
   "source": [
    "Read chemicals"
   ]
  },
  {
   "cell_type": "code",
   "execution_count": 9,
   "metadata": {},
   "outputs": [
    {
     "name": "stdout",
     "output_type": "stream",
     "text": [
      "\n",
      "{'h': {'Total_Charge': 0.0, 'Multiplicity': 1.0, 'Number_of_Electrons': 4.0, 'Nuclear_Repulsion': 0.0, 'One_Electron_Energy': -19.16643248, 'Two_Electron_Energy': 4.64776258, 'Potential_Energy': -29.28434581, 'Kinetic_Energy': 14.76567591, 'Dispersion_correction': 0.0, 'E(X)': -2.683079126669, 'E(C)': -0.087061447107}, 'al': {'Total_Charge': 0.0, 'Multiplicity': 1.0, 'Number_of_Electrons': 4.0, 'Nuclear_Repulsion': 0.0, 'One_Electron_Energy': -19.16643248, 'Two_Electron_Energy': 4.64776258, 'Potential_Energy': -29.28434581, 'Kinetic_Energy': 14.76567591, 'Dispersion_correction': 0.0, 'E(X)': -2.683079126669, 'E(C)': -0.087061447107}, 'si': {'Total_Charge': 0.0, 'Multiplicity': 1.0, 'Number_of_Electrons': 4.0, 'Nuclear_Repulsion': 0.0, 'One_Electron_Energy': -19.16643248, 'Two_Electron_Energy': 4.64776258, 'Potential_Energy': -29.28434581, 'Kinetic_Energy': 14.76567591, 'Dispersion_correction': 0.0, 'E(X)': -2.683079126669, 'E(C)': -0.087061447107}, 'b': {'Total_Charge': 0.0, 'Multiplicity': 1.0, 'Number_of_Electrons': 4.0, 'Nuclear_Repulsion': 0.0, 'One_Electron_Energy': -19.16643248, 'Two_Electron_Energy': 4.64776258, 'Potential_Energy': -29.28434581, 'Kinetic_Energy': 14.76567591, 'Dispersion_correction': 0.0, 'E(X)': -2.683079126669, 'E(C)': -0.087061447107}, 'c': {'Total_Charge': 0.0, 'Multiplicity': 1.0, 'Number_of_Electrons': 4.0, 'Nuclear_Repulsion': 0.0, 'One_Electron_Energy': -19.16643248, 'Two_Electron_Energy': 4.64776258, 'Potential_Energy': -29.28434581, 'Kinetic_Energy': 14.76567591, 'Dispersion_correction': 0.0, 'E(X)': -2.683079126669, 'E(C)': -0.087061447107}, 'f': {'Total_Charge': 0.0, 'Multiplicity': 1.0, 'Number_of_Electrons': 4.0, 'Nuclear_Repulsion': 0.0, 'One_Electron_Energy': -19.16643248, 'Two_Electron_Energy': 4.64776258, 'Potential_Energy': -29.28434581, 'Kinetic_Energy': 14.76567591, 'Dispersion_correction': 0.0, 'E(X)': -2.683079126669, 'E(C)': -0.087061447107}, 'p': {'Total_Charge': 0.0, 'Multiplicity': 1.0, 'Number_of_Electrons': 4.0, 'Nuclear_Repulsion': 0.0, 'One_Electron_Energy': -19.16643248, 'Two_Electron_Energy': 4.64776258, 'Potential_Energy': -29.28434581, 'Kinetic_Energy': 14.76567591, 'Dispersion_correction': 0.0, 'E(X)': -2.683079126669, 'E(C)': -0.087061447107}, 's': {'Total_Charge': 0.0, 'Multiplicity': 1.0, 'Number_of_Electrons': 4.0, 'Nuclear_Repulsion': 0.0, 'One_Electron_Energy': -19.16643248, 'Two_Electron_Energy': 4.64776258, 'Potential_Energy': -29.28434581, 'Kinetic_Energy': 14.76567591, 'Dispersion_correction': 0.0, 'E(X)': -2.683079126669, 'E(C)': -0.087061447107}, 'n': {'Total_Charge': 0.0, 'Multiplicity': 1.0, 'Number_of_Electrons': 4.0, 'Nuclear_Repulsion': 0.0, 'One_Electron_Energy': -19.16643248, 'Two_Electron_Energy': 4.64776258, 'Potential_Energy': -29.28434581, 'Kinetic_Energy': 14.76567591, 'Dispersion_correction': 0.0, 'E(X)': -2.683079126669, 'E(C)': -0.087061447107}, 'o': {'Total_Charge': 0.0, 'Multiplicity': 1.0, 'Number_of_Electrons': 4.0, 'Nuclear_Repulsion': 0.0, 'One_Electron_Energy': -19.16643248, 'Two_Electron_Energy': 4.64776258, 'Potential_Energy': -29.28434581, 'Kinetic_Energy': 14.76567591, 'Dispersion_correction': 0.0, 'E(X)': -2.683079126669, 'E(C)': -0.087061447107}, 'cl': {'Total_Charge': 0.0, 'Multiplicity': 1.0, 'Number_of_Electrons': 4.0, 'Nuclear_Repulsion': 0.0, 'One_Electron_Energy': -19.16643248, 'Two_Electron_Energy': 4.64776258, 'Potential_Energy': -29.28434581, 'Kinetic_Energy': 14.76567591, 'Dispersion_correction': 0.0, 'E(X)': -2.683079126669, 'E(C)': -0.087061447107}, 'be': {'Total_Charge': 0.0, 'Multiplicity': 1.0, 'Number_of_Electrons': 4.0, 'Nuclear_Repulsion': 0.0, 'One_Electron_Energy': -19.16643248, 'Two_Electron_Energy': 4.64776258, 'Potential_Energy': -29.28434581, 'Kinetic_Energy': 14.76567591, 'Dispersion_correction': 0.0, 'E(X)': -2.683079126669, 'E(C)': -0.087061447107}}\n"
     ]
    }
   ],
   "source": [
    "pbelist = [\"Nuclear Repulsion  :\", \\\n",
    "            \"One Electron Energy:\", \\\n",
    "            \"Two Electron Energy:\", \\\n",
    "            \"Potential Energy   :\", \\\n",
    "            \"Kinetic Energy     :\", \\\n",
    "            \"E(X)               :\"  , \\\n",
    "            \"E(C)               :\"  , \\\n",
    "            \"Dispersion correction\", \\\n",
    "            \"Total Charge\"   , \\\n",
    "            \"Multiplicity\"   , \\\n",
    "            \"Number of Electrons\"]\n",
    "\n",
    "pbedescriptor = {}\n",
    "for v in chemical_reacts:\n",
    "    for chem in v:\n",
    "\n",
    "        fp = open(rootdirqdata + '/PBE/'+chem+'.out', 'r')\n",
    "        for line in fp:\n",
    "            for val in pbelist:\n",
    "                if line.find(val) != -1:\n",
    "                    keyval = val.replace(\":\", \"\").rstrip().lstrip().replace(\" \", \"_\")\n",
    "                    sline = line.rstrip().lstrip().split()\n",
    "                    for sval in sline:\n",
    "                        try:\n",
    "                            firstnumvalue = float(sval)\n",
    "                            break\n",
    "                        except:\n",
    "                            continue\n",
    "                    \n",
    "                    moldesc[keyval] = firstnumvalue\n",
    "        fp.close()\n",
    "\n",
    "        pbedescriptor[chem] = moldesc\n",
    "\n",
    "print(\"\")\n",
    "print(pbedescriptor)"
   ]
  },
  {
   "cell_type": "markdown",
   "metadata": {},
   "source": []
  }
 ],
 "metadata": {
  "kernelspec": {
   "display_name": "my-rdkit-env",
   "language": "python",
   "name": "python3"
  },
  "language_info": {
   "codemirror_mode": {
    "name": "ipython",
    "version": 3
   },
   "file_extension": ".py",
   "mimetype": "text/x-python",
   "name": "python",
   "nbconvert_exporter": "python",
   "pygments_lexer": "ipython3",
   "version": "3.9.9"
  }
 },
 "nbformat": 4,
 "nbformat_minor": 2
}
