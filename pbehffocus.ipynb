{
 "cells": [
  {
   "cell_type": "code",
   "execution_count": 1,
   "metadata": {},
   "outputs": [],
   "source": [
    "from rdkit import Chem\n",
    "from rdkit.Chem import rdFingerprintGenerator\n",
    "from rdkit.Chem.Draw import IPythonConsole\n",
    "from rdkit import DataStructs\n",
    "import rdkit\n",
    "import os \n",
    "\n",
    "import matplotlib.pyplot as plt\n",
    "\n",
    "from sklearn.cross_decomposition import PLSRegression\n",
    "from sklearn.ensemble import RandomForestRegressor\n",
    "from sklearn.inspection import permutation_importance\n",
    "from sklearn.metrics import mean_squared_error, r2_score\n",
    "from sklearn.model_selection import (LeaveOneOut, cross_val_predict,\n",
    "                                     cross_val_score, train_test_split)\n",
    "\n",
    "import numpy as np \n",
    "import re\n",
    "\n",
    "from rdkit.Chem import Descriptors\n",
    "#print(len(Descriptors._descList))\n",
    "#print(Descriptors._descList[:5])\n",
    "#print(rdkit.__version__)\n",
    "\n",
    "from contextlib import contextmanager,redirect_stderr,redirect_stdout\n",
    "from os import devnull\n",
    "\n",
    "# build correlation matrix for the descriptors\n",
    "import pandas as pd\n",
    "import seaborn as sns\n",
    "import matplotlib.pyplot as plt\n",
    "\n",
    "def get_top_correlations_blog(df, threshold=0.4):\n",
    "    \"\"\"\n",
    "    df: the dataframe to get correlations from\n",
    "    threshold: the maximum and minimum value to include for correlations. For eg, if this is 0.4, only pairs haveing a correlation coefficient greater than 0.4 or less than -0.4 will be included in the results. \n",
    "    \"\"\"\n",
    "    orig_corr = df.corr()\n",
    "    c = orig_corr.abs()\n",
    "\n",
    "    so = c.unstack()\n",
    "\n",
    "    #print(\"|    Variable 1    |    Variable 2    | Correlation Coefficient    |\")\n",
    "    #print(\"|------------------|------------------|----------------------------|\")\n",
    "    \n",
    "    #i=0\n",
    "    pairs=set()\n",
    "    result = []\n",
    "    for index, value in so.sort_values(ascending=False).items():\n",
    "        # Exclude duplicates and self-correlations\n",
    "        if value > threshold \\\n",
    "        and index[0] != index[1] \\\n",
    "        and (index[0], index[1]) not in pairs \\\n",
    "        and (index[1], index[0]) not in pairs:\n",
    "            \n",
    "            #print(f'|    {index[0]}    |    {index[1]}    |    {orig_corr.loc[(index[0], index[1])]}    |')\n",
    "            #result.loc[i, ['Variable 1', 'Variable 2', 'Correlation Coefficient']] = \\\n",
    "            #    [index[0], index[1], orig_corr.loc[(index[0], index[1])]]\n",
    "            result.append([index[0], index[1], orig_corr.loc[(index[0], index[1])]])\n",
    "            pairs.add((index[0], index[1]))\n",
    "            #i+=1\n",
    "            \n",
    "    #return result.reset_index(drop=True).set_index(['Variable 1', 'Variable 2'])\n",
    "    return result\n",
    "\n",
    "@contextmanager\n",
    "def suppress_stdout_stderr():\n",
    "    \"\"\"A context manager that redirects stdout and stderr to devnull\"\"\"\n",
    "    with open(devnull, 'w') as fnull:\n",
    "        with redirect_stderr(fnull) as err, redirect_stdout(fnull) as out:\n",
    "            yield (err, out)"
   ]
  },
  {
   "cell_type": "markdown",
   "metadata": {},
   "source": [
    "DEfine basic data structures and config"
   ]
  },
  {
   "cell_type": "code",
   "execution_count": 2,
   "metadata": {},
   "outputs": [],
   "source": [
    "# those are the output data\n",
    "molnames = []\n",
    "labels = []\n",
    "diffs_toothermethods = []\n",
    "chemical_reacts = []\n",
    "stechio_ceofs = []\n",
    "moldescriptors = []\n",
    "\n",
    "howmanydifs = 3\n",
    "rootdirqdata = './qdata/'\n",
    "rootdirdata = './data/'\n",
    "\n",
    "hflist = [\"Nuclear Repulsion  :\", \\\n",
    "          \"One Electron Energy:\", \\\n",
    "          \"Two Electron Energy:\", \\\n",
    "          \"Potential Energy   :\", \\\n",
    "          \"Kinetic Energy     :\", \\\n",
    "          \"Dispersion correction\", \\\n",
    "          \"Total Charge\", \\\n",
    "          \"Multiplicity\", \\\n",
    "          \"Number of Electrons\", \\\n",
    "          \"FINAL SINGLE POINT ENERGY\"]\n",
    "\n",
    "pbelist = [\"Nuclear Repulsion  :\", \\\n",
    "            \"One Electron Energy:\", \\\n",
    "            \"Two Electron Energy:\", \\\n",
    "            \"Potential Energy   :\", \\\n",
    "            \"Kinetic Energy     :\", \\\n",
    "            \"E(X)               :\"  , \\\n",
    "            \"E(C)               :\"  , \\\n",
    "            \"Dispersion correction\", \\\n",
    "            \"Total Charge\"   , \\\n",
    "            \"Multiplicity\"   , \\\n",
    "            \"Number of Electrons\", \\\n",
    "            \"FINAL SINGLE POINT ENERGY\"]\n"
   ]
  },
  {
   "cell_type": "markdown",
   "metadata": {},
   "source": [
    "Read molecules labels and more"
   ]
  },
  {
   "cell_type": "code",
   "execution_count": 3,
   "metadata": {},
   "outputs": [
    {
     "name": "stdout",
     "output_type": "stream",
     "text": [
      "\n",
      "Number of labels         : 140\n",
      "Number of names          : 140\n",
      "Number of differences    : 140\n",
      "Number of chemicals      : 140\n",
      "Number of stechio ceofs  : 140\n",
      "Number of moldescriptors : 140\n"
     ]
    }
   ],
   "source": [
    "\n",
    "fp = open(rootdirdata + '/labels.txt', 'r')\n",
    "\n",
    "for line in fp:\n",
    "    sline = line.replace(\"\\t\", \" \").replace(\"\\n\", \"\").rstrip().lstrip().split()\n",
    "    molname = sline[1]\n",
    "    \n",
    "    difvals = []   \n",
    "    for i in range(howmanydifs):\n",
    "        difvals.append(float(sline[-1*(i+1)]))\n",
    "\n",
    "    schechio = []\n",
    "    reacts = []\n",
    "    for i in range(2,len(sline)-howmanydifs-1):\n",
    "        nospace = sline[i].replace(\" \", \"\")\n",
    "        if nospace.isdigit():\n",
    "            schechio.append(int(nospace))\n",
    "        elif nospace.startswith(\"-\") and nospace[1:].isdigit():\n",
    "            schechio.append(int(nospace))\n",
    "        else:\n",
    "            reacts.append(nospace)\n",
    "\n",
    "    stechio_ceofs.append(schechio)\n",
    "    chemical_reacts.append(reacts)\n",
    "    diffs_toothermethods.append(difvals)\n",
    "    labels.append(float(sline[-1*howmanydifs-1]))\n",
    "    molnames.append(molname)\n",
    "    moldescriptors.append({})\n",
    "\n",
    "fp.close()\n",
    "\n",
    "print(\"\")\n",
    "print(\"Number of labels         :\", len(labels))\n",
    "print(\"Number of names          :\", len(molnames))\n",
    "print(\"Number of differences    :\", len(diffs_toothermethods))\n",
    "print(\"Number of chemicals      :\", len(chemical_reacts))\n",
    "print(\"Number of stechio ceofs  :\", len(stechio_ceofs))\n",
    "print(\"Number of moldescriptors :\", len(moldescriptors))"
   ]
  },
  {
   "cell_type": "markdown",
   "metadata": {},
   "source": [
    "Read PBE data"
   ]
  },
  {
   "cell_type": "code",
   "execution_count": 4,
   "metadata": {},
   "outputs": [
    {
     "name": "stdout",
     "output_type": "stream",
     "text": [
      "\n",
      "Number of labels         : 140\n",
      "Number of names          : 140\n",
      "Number of differences    : 140\n",
      "Number of chemicals      : 140\n",
      "Number of stechio ceofs  : 140\n",
      "Number of moldescriptors : 140\n"
     ]
    }
   ],
   "source": [
    "pbedescriptor = {}\n",
    "\n",
    "for file in os.listdir(rootdirqdata+'/PBE/'):\n",
    "    if file.endswith('.out'):\n",
    "        molname = file.split('.out')[0]\n",
    "        molname = re.split(\"\\.mpi\\d+\", molname)[0]\n",
    "        #print(molname)\n",
    "        moldesc = {}\n",
    "        fp = open(rootdirqdata+'/PBE/'+file, 'r')\n",
    "        for line in fp:\n",
    "            for val in pbelist:\n",
    "                if line.find(val) != -1:\n",
    "                    keyval = val.replace(\":\", \"\").rstrip().lstrip().replace(\" \", \"_\")\n",
    "                    sline = line.rstrip().lstrip().split()\n",
    "                    for sval in sline:\n",
    "                        try:\n",
    "                            firstnumvalue = float(sval)\n",
    "                            break\n",
    "                        except:\n",
    "                            continue\n",
    "                    \n",
    "                    moldesc[\"PBE_\"+keyval] = firstnumvalue\n",
    "                    #print(molname, keyval, sval)\n",
    "        fp.close()\n",
    "        pbedescriptor[molname] = moldesc\n",
    "\n",
    "for i, molname in enumerate(molnames):\n",
    "    if molname in pbedescriptor:\n",
    "        for k in pbedescriptor[molname].keys():\n",
    "            moldescriptors[i][k] = pbedescriptor[molname][k]\n",
    "    else:\n",
    "        print(molname + \" not found in PBE descriptors\")\n",
    "\n",
    "print(\"\")\n",
    "print(\"Number of labels         :\", len(labels))\n",
    "print(\"Number of names          :\", len(molnames))\n",
    "print(\"Number of differences    :\", len(diffs_toothermethods))\n",
    "print(\"Number of chemicals      :\", len(chemical_reacts))\n",
    "print(\"Number of stechio ceofs  :\", len(stechio_ceofs))\n",
    "print(\"Number of moldescriptors :\", len(moldescriptors))"
   ]
  },
  {
   "cell_type": "markdown",
   "metadata": {},
   "source": [
    "Read HF data"
   ]
  },
  {
   "cell_type": "code",
   "execution_count": 5,
   "metadata": {},
   "outputs": [
    {
     "name": "stdout",
     "output_type": "stream",
     "text": [
      "\n",
      "Number of labels         : 140\n",
      "Number of names          : 140\n",
      "Number of differences    : 140\n",
      "Number of chemicals      : 140\n",
      "Number of stechio ceofs  : 140\n",
      "Number of moldescriptors : 140\n"
     ]
    }
   ],
   "source": [
    "hfdescriptor = {}\n",
    "\n",
    "for file in os.listdir(rootdirqdata+'/HF/'):\n",
    "    if file.endswith('.out'):\n",
    "        molname = file.split('.out')[0]\n",
    "        molname = re.split(\"\\.mpi\\d+\", molname)[0]\n",
    "        #print(molname)\n",
    "        moldesc = {}\n",
    "        fp = open(rootdirqdata+'/HF/'+file, 'r')\n",
    "        for line in fp:\n",
    "            for val in hflist:\n",
    "                if line.find(val) != -1:\n",
    "                    keyval = val.replace(\":\", \"\").rstrip().lstrip().replace(\" \", \"_\")\n",
    "                    sline = line.rstrip().lstrip().split()\n",
    "                    for sval in sline:\n",
    "                        try:\n",
    "                            firstnumvalue = float(sval)\n",
    "                            break\n",
    "                        except:\n",
    "                            continue\n",
    "                    \n",
    "                    moldesc[\"HF_\"+keyval] = firstnumvalue\n",
    "                    #print(molname, keyval, sval)\n",
    "        fp.close()\n",
    "        hfdescriptor[molname] = moldesc\n",
    "\n",
    "for i, molname in enumerate(molnames):\n",
    "    if molname in pbedescriptor:\n",
    "        for k in hfdescriptor[molname].keys():\n",
    "            moldescriptors[i][k] = hfdescriptor[molname][k]\n",
    "    else:\n",
    "        print(molname + \" not found in HF descriptors\")\n",
    "\n",
    "\n",
    "print(\"\")\n",
    "print(\"Number of labels         :\", len(labels))\n",
    "print(\"Number of names          :\", len(molnames))\n",
    "print(\"Number of differences    :\", len(diffs_toothermethods))\n",
    "print(\"Number of chemicals      :\", len(chemical_reacts))\n",
    "print(\"Number of stechio ceofs  :\", len(stechio_ceofs))\n",
    "print(\"Number of moldescriptors :\", len(moldescriptors))"
   ]
  },
  {
   "cell_type": "markdown",
   "metadata": {},
   "source": [
    "Remove molecules with some missing descriptor"
   ]
  },
  {
   "cell_type": "code",
   "execution_count": 6,
   "metadata": {},
   "outputs": [
    {
     "name": "stdout",
     "output_type": "stream",
     "text": [
      "\n",
      "Number of labels         : 140\n",
      "Number of names          : 140\n",
      "Number of differences    : 140\n",
      "Number of chemicals      : 140\n",
      "Number of stechio ceofs  : 140\n",
      "Number of moldescriptors : 140\n"
     ]
    }
   ],
   "source": [
    "alldims = set([len(val) for val in moldescriptors])\n",
    "idxtoremovs = []\n",
    "for i, val in enumerate(moldescriptors):\n",
    "    if len(val) != max(alldims):\n",
    "        idxtoremovs.append(i)\n",
    "\n",
    "for i in sorted(idxtoremovs, reverse=True):\n",
    "    print(\"Molname to remove:\", molnames[i], \"index:\", i)\n",
    "    del moldescriptors[i]\n",
    "    del labels[i]\n",
    "    del molnames[i]\n",
    "    del diffs_toothermethods[i]\n",
    "    del chemical_reacts[i]\n",
    "    del stechio_ceofs[i]\n",
    "\n",
    "print(\"\")\n",
    "print(\"Number of labels         :\", len(labels))\n",
    "print(\"Number of names          :\", len(molnames))\n",
    "print(\"Number of differences    :\", len(diffs_toothermethods))\n",
    "print(\"Number of chemicals      :\", len(chemical_reacts))\n",
    "print(\"Number of stechio ceofs  :\", len(stechio_ceofs))\n",
    "print(\"Number of moldescriptors :\", len(moldescriptors))"
   ]
  },
  {
   "cell_type": "markdown",
   "metadata": {},
   "source": [
    "Remove molecules with None Label "
   ]
  },
  {
   "cell_type": "code",
   "execution_count": 7,
   "metadata": {},
   "outputs": [
    {
     "name": "stdout",
     "output_type": "stream",
     "text": [
      "\n",
      "Number of labels         : 140\n",
      "Number of names          : 140\n",
      "Number of differences    : 140\n",
      "Number of chemicals      : 140\n",
      "Number of stechio ceofs  : 140\n",
      "Number of moldescriptors : 140\n"
     ]
    }
   ],
   "source": [
    "for i, v in enumerate(labels):\n",
    "    if v is None:\n",
    "        print(\"None value found in labels:\", i, molnames[i])\n",
    "        del moldescriptors[i]\n",
    "        del labels[i]\n",
    "        del molnames[i]\n",
    "        del diffs_toothermethods[i]\n",
    "        del chemical_reacts[i]\n",
    "        del stechio_ceofs[i]\n",
    "\n",
    "print(\"\")\n",
    "print(\"Number of labels         :\", len(labels))\n",
    "print(\"Number of names          :\", len(molnames))\n",
    "print(\"Number of differences    :\", len(diffs_toothermethods))\n",
    "print(\"Number of chemicals      :\", len(chemical_reacts))\n",
    "print(\"Number of stechio ceofs  :\", len(stechio_ceofs))\n",
    "print(\"Number of moldescriptors :\", len(moldescriptors))"
   ]
  },
  {
   "cell_type": "markdown",
   "metadata": {},
   "source": [
    "If a descriptor is nan at least for a molecule remove from all"
   ]
  },
  {
   "cell_type": "code",
   "execution_count": 8,
   "metadata": {},
   "outputs": [
    {
     "name": "stdout",
     "output_type": "stream",
     "text": [
      "Removing the following Descriptors  set()\n",
      "Removing  0  descriptors\n",
      "\n",
      "Number of descriptors: 22\n",
      "\n",
      "Number of labels         : 140\n",
      "Number of names          : 140\n",
      "Number of differences    : 140\n",
      "Number of chemicals      : 140\n",
      "Number of stechio ceofs  : 140\n",
      "Number of moldescriptors : 140\n"
     ]
    }
   ],
   "source": [
    "import math \n",
    "\n",
    "nandescriptors = set()\n",
    "for index, molname in enumerate(molnames):\n",
    "    if any(math.isnan(val) for val in moldescriptors[index].values()):\n",
    "        print(\"Nan value found in descriptors:\", molname)\n",
    "        for k,v in moldescriptors[index].items():\n",
    "            if math.isnan(v):\n",
    "                nandescriptors.add(k)\n",
    "\n",
    "print(\"Removing the following Descriptors \", nandescriptors)\n",
    "print(\"Removing \", len(nandescriptors), \" descriptors\")\n",
    "for i, v in enumerate(moldescriptors):\n",
    "    for k in nandescriptors:\n",
    "        del moldescriptors[i][k]\n",
    "\n",
    "\n",
    "print(\"\")\n",
    "print(\"Number of descriptors:\", len(moldescriptors[0]))\n",
    "print(\"\")\n",
    "print(\"Number of labels         :\", len(labels))\n",
    "print(\"Number of names          :\", len(molnames))\n",
    "print(\"Number of differences    :\", len(diffs_toothermethods))\n",
    "print(\"Number of chemicals      :\", len(chemical_reacts))\n",
    "print(\"Number of stechio ceofs  :\", len(stechio_ceofs))\n",
    "print(\"Number of moldescriptors :\", len(moldescriptors))"
   ]
  },
  {
   "cell_type": "markdown",
   "metadata": {},
   "source": [
    "Read chemicals"
   ]
  },
  {
   "cell_type": "code",
   "execution_count": 9,
   "metadata": {},
   "outputs": [
    {
     "name": "stdout",
     "output_type": "stream",
     "text": [
      "\n",
      "Number of chemicals descriptors: 12\n"
     ]
    }
   ],
   "source": [
    "chemicals_descriptors = {}\n",
    "\n",
    "for v in chemical_reacts:\n",
    "    for chem in v:\n",
    "\n",
    "        moldesc = {}\n",
    "        fp = open(rootdirqdata + '/PBE/'+chem+'.out', 'r')\n",
    "        for line in fp:\n",
    "            for val in pbelist:\n",
    "                if line.find(val) != -1:\n",
    "                    keyval = val.replace(\":\", \"\").rstrip().lstrip().replace(\" \", \"_\")\n",
    "                    sline = line.rstrip().lstrip().split()\n",
    "                    for sval in sline:\n",
    "                        try:\n",
    "                            firstnumvalue = float(sval)\n",
    "                            break\n",
    "                        except:\n",
    "                            continue\n",
    "                    \n",
    "                    moldesc[\"PBE_\"+keyval] = firstnumvalue\n",
    "\n",
    "        fp.close\n",
    "\n",
    "        fp = open(rootdirqdata + '/HF/'+chem+'.out', 'r')\n",
    "        for line in fp:\n",
    "            for val in hflist:\n",
    "                if line.find(val) != -1:\n",
    "                    keyval = val.replace(\":\", \"\").rstrip().lstrip().replace(\" \", \"_\")\n",
    "                    sline = line.rstrip().lstrip().split()\n",
    "                    for sval in sline:\n",
    "                        try:\n",
    "                            firstnumvalue = float(sval)\n",
    "                            break\n",
    "                        except:\n",
    "                            continue\n",
    "                    \n",
    "                    moldesc[\"HF_\"+keyval] = firstnumvalue\n",
    "        fp.close()\n",
    "\n",
    "        chemicals_descriptors[chem] = moldesc\n",
    "\n",
    "print(\"\")\n",
    "print(\"Number of chemicals descriptors:\", len(chemicals_descriptors))"
   ]
  },
  {
   "cell_type": "markdown",
   "metadata": {},
   "source": [
    "Check error respect to QM methods"
   ]
  },
  {
   "cell_type": "code",
   "execution_count": 10,
   "metadata": {},
   "outputs": [
    {
     "name": "stdout",
     "output_type": "stream",
     "text": [
      "Method 1 R2 score  : 0.9899437365837602\n",
      "Method 1 RMSE score: 19.259720069171752\n",
      "Method 2 R2 score  : 0.9905892336475421\n",
      "Method 2 RMSE score: 18.631342333360124\n",
      "Method 3 R2 score  : 0.990716922542401\n",
      "Method 3 RMSE score: 18.50451203664354\n",
      "Our Method R2 score  : 0.9228150294408229\n",
      "Our Method RMSE score: 53.3578131123409\n"
     ]
    }
   ],
   "source": [
    "\n",
    "for methodid in range(howmanydifs):\n",
    "    y_pred = []\n",
    "    for i, molname in enumerate(molnames):\n",
    "        y_pred.append(labels[i] + diffs_toothermethods[i][methodid])\n",
    "\n",
    "    # plot a scatterplot of the true vs predicted values\n",
    "    #plt.figure(figsize=(10,10))\n",
    "    #plt.scatter(labels, y_pred, c='crimson')\n",
    "    #plt.xlabel('True')\n",
    "    #plt.ylabel('Predicted Values')\n",
    "    \n",
    "    print(\"Method\", methodid+1, \"R2 score  :\", r2_score(labels, y_pred))\n",
    "    print(\"Method\", methodid+1, \"RMSE score:\", mean_squared_error(labels, y_pred, squared=False))\n",
    "\n",
    "y_pred = []\n",
    "autokcalmol = 627.5096080305927\n",
    "for mi, molname in enumerate(molnames):\n",
    "    #print(molname)\n",
    "    oury = moldescriptors[mi][\"PBE_FINAL_SINGLE_POINT_ENERGY\"]\n",
    "    si = 1\n",
    "    tosub = 0.0\n",
    "    for ci, chem in enumerate(chemical_reacts[mi]):\n",
    "        stecchio = stechio_ceofs[mi][si]\n",
    "        tosub += stecchio*chemicals_descriptors[chem][\"PBE_FINAL_SINGLE_POINT_ENERGY\"]\n",
    "        si += 1\n",
    "        \n",
    "    y_pred.append(autokcalmol*(tosub-oury))\n",
    "    #print(molname, oury, tosub, 627.51* (tosub-oury), labels[mi])\n",
    "\n",
    "# plot a scatterplot of the true vs predicted values\n",
    "#plt.figure(figsize=(10,10))\n",
    "#plt.scatter(labels, y_pred, c='crimson')\n",
    "#plt.xlabel('True')\n",
    "#plt.ylabel('Predicted Values')\n",
    "\n",
    "print(\"Our Method R2 score  :\", r2_score(labels, y_pred))\n",
    "print(\"Our Method RMSE score:\", mean_squared_error(labels, y_pred, squared=False))  \n",
    "     "
   ]
  },
  {
   "cell_type": "markdown",
   "metadata": {},
   "source": [
    "Build OBE differences"
   ]
  },
  {
   "cell_type": "code",
   "execution_count": 11,
   "metadata": {},
   "outputs": [
    {
     "name": "stdout",
     "output_type": "stream",
     "text": [
      "\n",
      "Number of labels               : 140\n",
      "Number of names                : 140\n",
      "Number of differences          : 140\n",
      "Number of chemicals            : 140\n",
      "Number of stechio ceofs        : 140\n",
      "Number of moldescriptors       : 140\n",
      "Number of pbe_diff_descriptors : 140\n"
     ]
    }
   ],
   "source": [
    "pbe_diff_descriptors = []\n",
    "\n",
    "# here I can remove PBE_Nuclear_Repulsion but I will keep it to be general\n",
    "pbeenergylist = [\"PBE_Nuclear_Repulsion\", \\\n",
    "            \"PBE_One_Electron_Energy\", \\\n",
    "            \"PBE_Two_Electron_Energy\", \\\n",
    "            \"PBE_Potential_Energy\", \\\n",
    "            \"PBE_Kinetic_Energy\", \\\n",
    "            \"PBE_E(X)\"  , \\\n",
    "            \"PBE_E(C)\"  , \\\n",
    "            \"PBE_Dispersion_correction\", \\\n",
    "            \"PBE_FINAL_SINGLE_POINT_ENERGY\"]\n",
    "\n",
    "pbenonenergylist = [\"PBE_Total_Charge\", \\\n",
    "            \"PBE_Multiplicity\", \\\n",
    "            \"PBE_Number_of_Electrons\"]\n",
    "\n",
    "for mi, molname in enumerate(molnames):\n",
    "    diff_desc = {}\n",
    "    for desc in pbeenergylist:\n",
    "        y = moldescriptors[mi][desc]\n",
    "        si = 1\n",
    "        comp = 0.0\n",
    "        for ci, chem in enumerate(chemical_reacts[mi]):\n",
    "            stecchio = stechio_ceofs[mi][si]\n",
    "            comp += stecchio*chemicals_descriptors[chem][desc]\n",
    "            si += 1\n",
    "        \n",
    "        diff_desc[desc] = comp-y\n",
    "    \n",
    "    pbe_diff_descriptors.append(diff_desc)\n",
    "\n",
    "print(\"\")\n",
    "print(\"Number of labels               :\", len(labels))\n",
    "print(\"Number of names                :\", len(molnames))\n",
    "print(\"Number of differences          :\", len(diffs_toothermethods))\n",
    "print(\"Number of chemicals            :\", len(chemical_reacts))\n",
    "print(\"Number of stechio ceofs        :\", len(stechio_ceofs))\n",
    "print(\"Number of moldescriptors       :\", len(moldescriptors))\n",
    "print(\"Number of pbe_diff_descriptors :\", len(pbe_diff_descriptors))"
   ]
  },
  {
   "cell_type": "markdown",
   "metadata": {},
   "source": [
    "Build features matrix"
   ]
  },
  {
   "cell_type": "code",
   "execution_count": 12,
   "metadata": {},
   "outputs": [],
   "source": [
    "moldescriptors_featues = []\n",
    "Y = []\n",
    "features_names = []\n",
    "\n",
    "for idx, molname in enumerate(molnames):\n",
    "    val = []\n",
    "    for k,v in pbe_diff_descriptors[idx].items():\n",
    "        if idx == 0:\n",
    "            features_names.append(k)\n",
    "        val.append(v)\n",
    "    moldescriptors_featues.append(val)\n",
    "    Y.append(labels[idx])\n",
    "\n",
    "Y = np.array(Y)\n",
    "moldescriptors_featues = np.array(moldescriptors_featues)\n",
    "#print(features_names)"
   ]
  },
  {
   "cell_type": "code",
   "execution_count": 13,
   "metadata": {},
   "outputs": [
    {
     "name": "stdout",
     "output_type": "stream",
     "text": [
      "['PBE_One_Electron_Energy', 'PBE_Nuclear_Repulsion', -0.99995447781551]\n",
      "['PBE_One_Electron_Energy', 'PBE_Two_Electron_Energy', -0.9999407994582038]\n",
      "['PBE_Nuclear_Repulsion', 'PBE_Two_Electron_Energy', 0.9998097065964346]\n",
      "['PBE_Potential_Energy', 'PBE_Kinetic_Energy', -0.9605490247076963]\n",
      "['PBE_FINAL_SINGLE_POINT_ENERGY', 'PBE_E(C)', 0.8923305535267234]\n",
      "['PBE_E(C)', 'PBE_Kinetic_Energy', 0.8854406834038481]\n",
      "['PBE_FINAL_SINGLE_POINT_ENERGY', 'PBE_Kinetic_Energy', 0.8125143160960776]\n"
     ]
    }
   ],
   "source": [
    "df = pd.DataFrame(moldescriptors_featues, columns=features_names)\n",
    "\n",
    "top_corr = get_top_correlations_blog(df, 0.8)\n",
    "for tc in top_corr:\n",
    "    print(tc)"
   ]
  },
  {
   "cell_type": "markdown",
   "metadata": {},
   "source": [
    "Build PLS model using alla features"
   ]
  },
  {
   "cell_type": "code",
   "execution_count": 14,
   "metadata": {},
   "outputs": [
    {
     "name": "stderr",
     "output_type": "stream",
     "text": [
      "2023-11-18 18:50:13.058322: W tensorflow/stream_executor/platform/default/dso_loader.cc:64] Could not load dynamic library 'libcudart.so.11.0'; dlerror: libcudart.so.11.0: cannot open shared object file: No such file or directory\n",
      "2023-11-18 18:50:13.058337: I tensorflow/stream_executor/cuda/cudart_stub.cc:29] Ignore above cudart dlerror if you do not have a GPU set up on your machine.\n",
      "/home/redo/anaconda3/envs/myrdkit/lib/python3.9/site-packages/sklearn/cross_decomposition/_pls.py:230: FutureWarning: As of version 0.24, n_components(10) should be in [1, n_features].n_components=9 will be used instead. In version 1.1 (renaming of 0.26), an error will be raised.\n",
      "  warnings.warn(\n",
      "/home/redo/anaconda3/envs/myrdkit/lib/python3.9/site-packages/sklearn/cross_decomposition/_pls.py:230: FutureWarning: As of version 0.24, n_components(11) should be in [1, n_features].n_components=9 will be used instead. In version 1.1 (renaming of 0.26), an error will be raised.\n",
      "  warnings.warn(\n",
      "/home/redo/anaconda3/envs/myrdkit/lib/python3.9/site-packages/sklearn/cross_decomposition/_pls.py:230: FutureWarning: As of version 0.24, n_components(12) should be in [1, n_features].n_components=9 will be used instead. In version 1.1 (renaming of 0.26), an error will be raised.\n",
      "  warnings.warn(\n",
      "/home/redo/anaconda3/envs/myrdkit/lib/python3.9/site-packages/sklearn/cross_decomposition/_pls.py:230: FutureWarning: As of version 0.24, n_components(13) should be in [1, n_features].n_components=9 will be used instead. In version 1.1 (renaming of 0.26), an error will be raised.\n",
      "  warnings.warn(\n",
      "/home/redo/anaconda3/envs/myrdkit/lib/python3.9/site-packages/sklearn/cross_decomposition/_pls.py:230: FutureWarning: As of version 0.24, n_components(14) should be in [1, n_features].n_components=9 will be used instead. In version 1.1 (renaming of 0.26), an error will be raised.\n",
      "  warnings.warn(\n"
     ]
    },
    {
     "data": {
      "image/png": "[encoded data removed]",
      "text/plain": [
       "<Figure size 640x480 with 1 Axes>"
      ]
     },
     "metadata": {},
     "output_type": "display_data"
    },
    {
     "data": {
      "image/png": "[encoded data removed]",
      "text/plain": [
       "<Figure size 640x480 with 1 Axes>"
      ]
     },
     "metadata": {},
     "output_type": "display_data"
    },
    {
     "name": "stdout",
     "output_type": "stream",
     "text": [
      "Max R2 Test set:  0.9905871760598016  N. Comps:  9\n",
      "Min RMSE Test set:  17.034485386834895  N. Comps:  9\n"
     ]
    }
   ],
   "source": [
    "import models\n",
    "%reload_ext models\n",
    "\n",
    "perc_split = 0.2\n",
    "ncomps, rmses_test, rmses_train, r2s_test, r2s_train = \\\n",
    "    models.pls_model (0.2, moldescriptors_featues, Y)\n",
    "\n",
    "r2max_comps = np.argmax(r2s_test)+1\n",
    "rmsemin_comps = np.argmin(rmses_test)+1\n",
    "print(\"Max R2 Test set: \", np.max(r2s_test), \" N. Comps: \", r2max_comps)\n",
    "print(\"Min RMSE Test set: \", np.min(rmses_test), \" N. Comps: \", rmsemin_comps)"
   ]
  },
  {
   "cell_type": "code",
   "execution_count": 15,
   "metadata": {},
   "outputs": [
    {
     "name": "stdout",
     "output_type": "stream",
     "text": [
      "RMSE Train:  13.80944054653272\n",
      "RMSE Test :  17.034485386834895\n",
      "R2 Train  :  0.9950247044503004\n",
      "R2 Test   :  0.9905871760598016\n",
      "RMSE Full:  14.511900531819936\n",
      "R2 Full  :  0.9942906681645354\n"
     ]
    },
    {
     "data": {
      "image/png": "[encoded data removed]",
      "text/plain": [
       "<Figure size 640x480 with 1 Axes>"
      ]
     },
     "metadata": {},
     "output_type": "display_data"
    },
    {
     "data": {
      "image/png": "[encoded data removed]",
      "text/plain": [
       "<Figure size 640x480 with 1 Axes>"
      ]
     },
     "metadata": {},
     "output_type": "display_data"
    }
   ],
   "source": [
    "%reload_ext models\n",
    "\n",
    "compstouse = min(rmsemin_comps, r2max_comps)\n",
    "models.pls_model (0.2, moldescriptors_featues, Y, False, compstouse)"
   ]
  },
  {
   "cell_type": "code",
   "execution_count": 16,
   "metadata": {},
   "outputs": [
    {
     "name": "stdout",
     "output_type": "stream",
     "text": [
      "RMSE:  16.002136580183628\n"
     ]
    }
   ],
   "source": [
    "%reload_ext models\n",
    "\n",
    "compstouse = min(rmsemin_comps, r2max_comps)\n",
    "perc_split = 0.0\n",
    "models.pls_model (perc_split, moldescriptors_featues, Y, False, compstouse, leaveoneout=True)"
   ]
  },
  {
   "cell_type": "code",
   "execution_count": null,
   "metadata": {},
   "outputs": [],
   "source": []
  }
 ],
 "metadata": {
  "kernelspec": {
   "display_name": "my-rdkit-env",
   "language": "python",
   "name": "python3"
  },
  "language_info": {
   "codemirror_mode": {
    "name": "ipython",
    "version": 3
   },
   "file_extension": ".py",
   "mimetype": "text/x-python",
   "name": "python",
   "nbconvert_exporter": "python",
   "pygments_lexer": "ipython3",
   "version": "3.9.9"
  }
 },
 "nbformat": 4,
 "nbformat_minor": 2
}
