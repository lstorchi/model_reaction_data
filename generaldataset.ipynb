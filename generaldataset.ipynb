{
 "cells": [
  {
   "cell_type": "code",
   "execution_count": 1,
   "metadata": {},
   "outputs": [],
   "source": [
    "import commonutils\n",
    "\n",
    "rootdir = \"../datasets/ML_data/W4-11\"\n",
    "labelsfilename = \"../datasets/ML_data/W4-11/labels.txt\"\n",
    "howmanydifs = 3\n",
    "\n",
    "allvalues, basic_pbedescriptors, basic_hfdescriptors =\\\n",
    "      commonutils.read_dataset(rootdir, labelsfilename, howmanydifs)\n"
   ]
  }
 ],
 "metadata": {
  "kernelspec": {
   "display_name": "my-rdkit-env",
   "language": "python",
   "name": "python3"
  },
  "language_info": {
   "codemirror_mode": {
    "name": "ipython",
    "version": 3
   },
   "file_extension": ".py",
   "mimetype": "text/x-python",
   "name": "python",
   "nbconvert_exporter": "python",
   "pygments_lexer": "ipython3",
   "version": "3.9.9"
  }
 },
 "nbformat": 4,
 "nbformat_minor": 2
}
