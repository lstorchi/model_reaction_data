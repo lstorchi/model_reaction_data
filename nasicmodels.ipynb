{
 "cells": [
  {
   "cell_type": "code",
   "execution_count": null,
   "metadata": {},
   "outputs": [],
   "source": [
    "from rdkit import Chem\n",
    "from rdkit.Chem import rdFingerprintGenerator\n",
    "from rdkit.Chem.Draw import IPythonConsole\n",
    "from rdkit import DataStructs\n",
    "import rdkit\n",
    "import os \n",
    "\n",
    "import matplotlib.pyplot as plt\n",
    "\n",
    "from sklearn.cross_decomposition import PLSRegression\n",
    "from sklearn.ensemble import RandomForestRegressor\n",
    "from sklearn.inspection import permutation_importance\n",
    "from sklearn.metrics import mean_squared_error, r2_score\n",
    "from sklearn.model_selection import (LeaveOneOut, cross_val_predict,\n",
    "                                     cross_val_score, train_test_split)\n",
    "\n",
    "import numpy as np \n",
    "\n",
    "from rdkit.Chem import Descriptors\n",
    "print(len(Descriptors._descList))\n",
    "print(Descriptors._descList[:5])\n",
    "\n",
    "print(rdkit.__version__)"
   ]
  },
  {
   "cell_type": "code",
   "execution_count": null,
   "metadata": {},
   "outputs": [],
   "source": [
    "molecules = []\n",
    "fnames = []\n",
    "lnames = []\n",
    "labels = []\n",
    "\n",
    "for dir in os.listdir('./data'):\n",
    "    if os.path.isdir('./data/'+dir):\n",
    "        for file in os.listdir('./data/'+dir):\n",
    "            if file.endswith('.pdb'):\n",
    "                m = rdkit.Chem.rdmolfiles.MolFromPDBFile('./data/'+dir+\"/\"+file)\n",
    "                if m is None:\n",
    "                    print(\"Error reading file:\", file)\n",
    "                else:\n",
    "                    molecules.append(m)\n",
    "                    fnames.append(dir.rstrip().lstrip())\n",
    "\n",
    "fp = open('./data/labels.txt', 'r')\n",
    "\n",
    "for line in fp:\n",
    "    sline = line.rstrip().lstrip().split()\n",
    "    lnames.append(sline[1])\n",
    "    labels.append(float(sline[-1]))\n",
    "\n",
    "fp.close()\n",
    "\n",
    "fingersize = 64\n",
    "rdgen = rdFingerprintGenerator.GetRDKitFPGenerator(fpSize=fingersize)\n",
    "\n",
    "np_bits_l = []\n",
    "np_counts_l = []\n",
    "moldescriptors = []\n",
    "\n",
    "for m in molecules:\n",
    "    np_bits = rdgen.GetFingerprintAsNumPy(m)\n",
    "    np_bits_l.append(np_bits)\n",
    "    np_counts = rdgen.GetCountFingerprintAsNumPy(m)\n",
    "    np_counts_l.append(np_counts)\n",
    "\n",
    "    res = {}\n",
    "    missingVal=None\n",
    "    for nm,fn in Descriptors._descList:\n",
    "        # some of the descriptor fucntions can throw errors if they fail, catch those here:\n",
    "        try:\n",
    "            val = fn(m)\n",
    "        except:\n",
    "            # print the error message:\n",
    "            import traceback\n",
    "            traceback.print_exc()\n",
    "            # and set the descriptor value to whatever missingVal is\n",
    "            val = missingVal\n",
    "\n",
    "        res[nm] = val\n",
    "\n",
    "    moldescriptors.append(res)\n",
    "\n",
    "for i in range(len(moldescriptors)):\n",
    "    for k,v in moldescriptors[i].items():\n",
    "        if v is None:\n",
    "            moldescriptors[i][k] = 0.0\n",
    "        elif v is np.nan:   \n",
    "            moldescriptors[i][k] = 0.0 "
   ]
  },
  {
   "cell_type": "code",
   "execution_count": null,
   "metadata": {},
   "outputs": [],
   "source": [
    "np_bits_features = []\n",
    "np_counts_features = []\n",
    "moldescriptors_featues = []\n",
    "Y = []\n",
    "names = []\n",
    "\n",
    "s_fnames = set(fnames)\n",
    "s_lnames = set(lnames)\n",
    "s_int = s_fnames.intersection(s_lnames)\n",
    "for molname in s_int:\n",
    "    #get index of molname in fnames\n",
    "    idx = fnames.index(molname)\n",
    "    np_bits_features.append(np_bits_l[idx])\n",
    "    np_counts_features.append(np_counts_l[idx])\n",
    "    val = [i for i in moldescriptors[idx].values()]\n",
    "    moldescriptors_featues.append(val)\n",
    "    #get index of molname in lnames\n",
    "    idx2 = lnames.index(molname)\n",
    "    Y.append(labels[idx2])\n",
    "    names.append(molname)\n",
    "\n",
    "Y = np.array(Y)\n",
    "np_bits_features = np.array(np_bits_features)\n",
    "np_counts_features = np.array(np_counts_features)\n",
    "moldescriptors_featues = np.array(moldescriptors_featues)\n",
    "\n",
    "moldescriptors_featues = np.nan_to_num(moldescriptors_featues, 0.0)"
   ]
  },
  {
   "cell_type": "code",
   "execution_count": null,
   "metadata": {},
   "outputs": [],
   "source": [
    "import models \n",
    "%reload_ext models\n",
    "\n",
    "perc_split = 0.2\n",
    "models.pls_model (0.2, np_counts_features, Y)"
   ]
  },
  {
   "cell_type": "code",
   "execution_count": null,
   "metadata": {},
   "outputs": [],
   "source": [
    "perc_split = 0.2\n",
    "models.pls_model (0.2, np_counts_features, Y, False, 3)"
   ]
  },
  {
   "cell_type": "code",
   "execution_count": null,
   "metadata": {},
   "outputs": [],
   "source": [
    "perc_split = 0.2\n",
    "models.pls_model (0.2, np_bits_features, Y)"
   ]
  },
  {
   "cell_type": "code",
   "execution_count": null,
   "metadata": {},
   "outputs": [],
   "source": [
    "perc_split = 0.2\n",
    "models.pls_model (0.2, np_bits_features, Y, False, 3)"
   ]
  },
  {
   "cell_type": "code",
   "execution_count": null,
   "metadata": {},
   "outputs": [],
   "source": [
    "perc_split = 0.2\n",
    "models.pls_model (0.2, moldescriptors_featues, Y)"
   ]
  },
  {
   "cell_type": "code",
   "execution_count": null,
   "metadata": {},
   "outputs": [],
   "source": [
    "perc_split = 0.2\n",
    "models.pls_model (0.2, moldescriptors_featues, Y, False, 3)"
   ]
  },
  {
   "cell_type": "code",
   "execution_count": null,
   "metadata": {},
   "outputs": [],
   "source": [
    "perc_split = 0.2\n",
    "models.rf_model (0.2, moldescriptors_featues, Y)"
   ]
  },
  {
   "cell_type": "code",
   "execution_count": null,
   "metadata": {},
   "outputs": [],
   "source": [
    "%reload_ext autoreload\n",
    "%autoreload 2\n",
    "import models \n",
    "\n",
    "modelshapes = [[64, 32, 16, 8, 4, 2], \n",
    "                [64, 32, 16, 8, 4], \n",
    "                [64, 32, 16, 8], \n",
    "                [64, 32, 16], \n",
    "                [64, 32], \n",
    "                [64]]\n",
    "\n",
    "\n",
    "perc_split = 0.2\n",
    "nepochs=10\n",
    "\n",
    "\n",
    "models.nndmodel (0.2, np_counts_features, Y, nepochs, modelshapes)"
   ]
  }
 ],
 "metadata": {
  "kernelspec": {
   "display_name": "my-rdkit-env",
   "language": "python",
   "name": "python3"
  },
  "language_info": {
   "codemirror_mode": {
    "name": "ipython",
    "version": 3
   },
   "file_extension": ".py",
   "mimetype": "text/x-python",
   "name": "python",
   "nbconvert_exporter": "python",
   "pygments_lexer": "ipython3",
   "version": "3.10.12"
  }
 },
 "nbformat": 4,
 "nbformat_minor": 2
}
