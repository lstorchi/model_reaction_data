{
 "cells": [
  {
   "cell_type": "code",
   "execution_count": 1,
   "metadata": {},
   "outputs": [],
   "source": [
    "import pandas as pd\n",
    "import numpy as np\n",
    "import math\n",
    "\n",
    "def read_compute_rmse(filename, touse=\"y_pred\"):\n",
    "\n",
    "    df = pd.read_csv(filename, sep=';', header=0)\n",
    "    y_actual = df[\"label\"].values\n",
    "    y_predicted = df[touse].values\n",
    "    MSE = np.square(np.subtract(y_actual,y_predicted)).mean() \n",
    "    RMSE = math.sqrt(MSE)\n",
    "\n",
    "    return RMSE"
   ]
  },
  {
   "cell_type": "code",
   "execution_count": 2,
   "metadata": {},
   "outputs": [
    {
     "name": "stdout",
     "output_type": "stream",
     "text": [
      "       INTERMOLECULAR_INTERACTIONS_RG18   0.0171   3.8629  33.9200\n",
      "      INTRAMOLECULAR_INTERACTIONS_ICONF   0.3208   1.2247   6.1401\n",
      "                   LARGE_SYSTEMS_C60ISO   3.8171   5.5573   9.7773\n",
      "                BARRIER_HEIGHTS_BHROT27   1.8588   2.8015   3.4092\n",
      "                   SMALL_MOLECULES_FH51   5.2665  19.5760  20.5822\n",
      "                    LARGE_SYSTEMS_RSE43   2.8928   4.8793   7.7834\n",
      "                 SMALL_MOLECULES_YBDE18   4.9444  17.3595  19.1196\n",
      "                   SMALL_MOLECULES_PA26   3.8537  27.6087  29.7443\n",
      "                   BARRIER_HEIGHTS_PX13   0.4847   2.4715  32.1167\n",
      "                   SMALL_MOLECULES_G2RC  20.5765  22.5982  27.2166\n",
      "      INTERMOLECULAR_INTERACTIONS_HAL59   2.1818  11.1226  54.9483\n",
      "       INTERMOLECULAR_INTERACTIONS_CHB6   4.8428  10.2847  20.2089\n",
      "                    LARGE_SYSTEMS_ISO34   3.9868   7.1738   9.0983\n",
      "      INTRAMOLECULAR_INTERACTIONS_UPU23   0.9432   0.9110  15.1756\n",
      "                  SMALL_MOLECULES_W4-11   8.4407  15.1624  25.2811\n",
      "                  BARRIER_HEIGHTS_INV24   3.3356   4.0885  23.2340\n",
      "                    LARGE_SYSTEMS_BSR36   0.1545   8.0853   5.1122\n",
      "                 BARRIER_HEIGHTS_BHPERI   6.2490   4.2111   8.1314\n",
      "                 BARRIER_HEIGHTS_WCPT18   3.2611   4.1470   8.6319\n",
      "      INTRAMOLECULAR_INTERACTIONS_ACONF   0.1307   0.3953   2.4119\n",
      "      INTERMOLECULAR_INTERACTIONS_ADIM6   0.0910   3.5944  13.8703\n",
      "                  SMALL_MOLECULES_G21IP   9.6127  17.5736  18.7054\n",
      "       INTERMOLECULAR_INTERACTIONS_IL16   0.8679  18.6614  38.8921\n",
      "                  SMALL_MOLECULES_G21EA   4.5984  17.4985  25.3234\n",
      "        INTERMOLECULAR_INTERACTIONS_S66   0.1902   2.6872   8.4837\n",
      "                   SMALL_MOLECULES_RC21   8.4379  21.3895  27.0453\n",
      "    INTERMOLECULAR_INTERACTIONS_WATER27   1.3765  10.2989  15.0415\n",
      "      INTRAMOLECULAR_INTERACTIONS_SCONF   0.3635   1.1686   4.7026\n",
      "                 SMALL_MOLECULES_TAUT15   1.9074  11.2751   8.0753\n",
      "      INTRAMOLECULAR_INTERACTIONS_MCONF   0.0856   0.6613   7.3364\n",
      "      INTERMOLECULAR_INTERACTIONS_AHB21   1.5156  13.8707  12.9359\n",
      "                    LARGE_SYSTEMS_PArel   2.2186  10.9456  11.9230\n",
      "        INTERMOLECULAR_INTERACTIONS_S22   0.2866   2.7437  13.7860\n",
      "      INTRAMOLECULAR_INTERACTIONS_IDISP  23.1303   1.3646  27.7430\n",
      "                 SMALL_MOLECULES_SIE4x4   2.2537  23.4608  16.4186\n",
      "                   LARGE_SYSTEMS_CDIE20   0.2462   5.0606   6.5516\n",
      "    INTRAMOLECULAR_INTERACTIONS_PCONF21   0.6221   1.0736  11.3716\n",
      "                SMALL_MOLECULES_DIPCS10  13.8771  34.9209  48.2283\n",
      "                  SMALL_MOLECULES_NBPRC  12.4915  13.5858  19.6341\n",
      "                  LARGE_SYSTEMS_MB16-43  16.1220  23.9558  62.8961\n",
      "                   SMALL_MOLECULES_DC13  21.2630  26.8189  29.6876\n",
      "    INTERMOLECULAR_INTERACTIONS_PNICO23   0.1681   5.7841   9.5238\n",
      "                  SMALL_MOLECULES_AL2X6   1.3974  16.8240  31.6882\n",
      "   INTERMOLECULAR_INTERACTIONS_CARBHB12   0.2623   9.0415   4.3920\n",
      "                BARRIER_HEIGHTS_BHDIV10   7.1200   4.9054  12.9496\n",
      "                   LARGE_SYSTEMS_ISOL24   2.0352   8.0884  13.5372\n",
      "                   SMALL_MOLECULES_ALK8  16.1975  21.5450  26.2980\n",
      "               SMALL_MOLECULES_ALKBDE10  13.9064  31.8425  41.1040\n"
     ]
    }
   ],
   "source": [
    "import glob\n",
    "\n",
    "filenames = glob.glob('./*_predictions.csv')\n",
    "\n",
    "for filename in filenames:\n",
    "    rmse = read_compute_rmse(filename, touse=\"y_pred\")\n",
    "    rmse_general = read_compute_rmse(filename, touse=\"y_pred_general\")\n",
    "    rmse_full = read_compute_rmse(filename, touse=\"y_pred_full\")\n",
    "    print(\"%39s\"%filename.replace(\"_predictions.csv\",\"\").replace(\"./\",\"\"), \\\n",
    "          \"%8.4f\"%(rmse), \"%8.4f\"%(rmse_general), \"%8.4f\"%(rmse_full))\n",
    "\n"
   ]
  }
 ],
 "metadata": {
  "kernelspec": {
   "display_name": "my-rdkit-env",
   "language": "python",
   "name": "python3"
  },
  "language_info": {
   "codemirror_mode": {
    "name": "ipython",
    "version": 3
   },
   "file_extension": ".py",
   "mimetype": "text/x-python",
   "name": "python",
   "nbconvert_exporter": "python",
   "pygments_lexer": "ipython3",
   "version": "3.10.12"
  }
 },
 "nbformat": 4,
 "nbformat_minor": 2
}
