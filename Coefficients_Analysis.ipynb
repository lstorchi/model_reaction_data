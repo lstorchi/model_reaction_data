{
 "cells": [
  {
   "cell_type": "code",
   "execution_count": null,
   "metadata": {},
   "outputs": [],
   "source": [
    "import os\n",
    "import pandas as pd\n",
    "\n",
    "\n",
    "modelscoefficents = {}\n",
    "rootdir = './RawData'\n",
    "for dir in os.listdir(rootdir):\n",
    "    if os.path.isdir(os.path.join(rootdir, dir)):\n",
    "        modelscoefficents[dir] = {}\n",
    "        modelscoefficents[dir][\"Setname\"] = []\n",
    "        modelscoefficents[dir][\"ModelType\"] = []\n",
    "        modelscoefficents[dir][\"FeatName\"] = []\n",
    "        modelscoefficents[dir][\"CoeffValue\"] = []\n",
    "        for file in os.listdir(os.path.join(rootdir, dir)):\n",
    "            if file == 'modelscoefficients.csv':\n",
    "                fp = open(os.path.join(rootdir, dir, file), 'r')\n",
    "                lines = fp.readlines()\n",
    "                for l in lines:\n",
    "                    if l.find(' PLS ') == -1:\n",
    "                        sl = l.split(',')\n",
    "                        if len(sl) !=  3:\n",
    "                            print('ERROR in', os.path.join(rootdir, dir, file))\n",
    "                            exit(-1)\n",
    "                        else:\n",
    "                            for idx, e in enumerate(sl):\n",
    "                                e = e.strip()\n",
    "                                if idx == 0:\n",
    "                                    se = e.split(' ')\n",
    "                                    setname  = ''\n",
    "                                    modeltype = ''\n",
    "\n",
    "                                    if len(se) == 2:\n",
    "                                        setname  = se[0]\n",
    "                                        modeltype = se[1]\n",
    "                                    else:\n",
    "                                        setname  = se[0]\n",
    "                                        modeltype = ' '.join(se[1:])\n",
    "                                    modelscoefficents[dir][\"Setname\"].append(setname)\n",
    "                                    modelscoefficents[dir][\"ModelType\"].append(modeltype)\n",
    "                                elif idx == 1:\n",
    "                                    modelscoefficents[dir][\"FeatName\"].append(e)\n",
    "                                elif idx == 2:\n",
    "                                    cv = float(e)\n",
    "                                    modelscoefficents[dir][\"CoeffValue\"].append(cv)\n",
    "                fp.close()\n"
   ]
  },
  {
   "cell_type": "code",
   "execution_count": null,
   "metadata": {},
   "outputs": [],
   "source": [
    "# extract an equation given a startpoint, setname and modeltype\n",
    "startpoint = 'PBE_SVP'\n",
    "setname = 'BARRIER_HEIGHTS'\n",
    "modeltype = 'LR split'\n",
    "\n",
    "for sp in modelscoefficents:\n",
    "    if sp == startpoint:\n",
    "        for idx, sn in enumerate(modelscoefficents[sp][\"Setname\"]):\n",
    "            mt = modelscoefficents[sp][\"ModelType\"][idx]\n",
    "            fn = modelscoefficents[sp][\"FeatName\"][idx]\n",
    "            cv = modelscoefficents[sp][\"CoeffValue\"][idx]\n",
    "            if sn == setname and mt == modeltype:\n",
    "                if cv > 0:\n",
    "                    print(f'+ {cv:.8f} * {fn}', end=' ')\n",
    "                else:\n",
    "                    print(f'- {-cv:.8f} * {fn}', end=' ')\n",
    "        print('')"
   ]
  }
 ],
 "metadata": {
  "kernelspec": {
   "display_name": "py10",
   "language": "python",
   "name": "python3"
  },
  "language_info": {
   "codemirror_mode": {
    "name": "ipython",
    "version": 3
   },
   "file_extension": ".py",
   "mimetype": "text/x-python",
   "name": "python",
   "nbconvert_exporter": "python",
   "pygments_lexer": "ipython3",
   "version": "3.10.14"
  }
 },
 "nbformat": 4,
 "nbformat_minor": 2
}
