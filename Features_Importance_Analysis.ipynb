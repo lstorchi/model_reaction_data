{
 "cells": [
  {
   "cell_type": "code",
   "execution_count": null,
   "metadata": {},
   "outputs": [],
   "source": [
    "import os\n",
    "import sys\n",
    "import pickle\n",
    "\n",
    "sys.path.append('./CLossLr')\n",
    "import customlosslr\n",
    "\n",
    "rootdir = './Results'\n",
    "functional = \"PBE\"\n",
    "basisset = \"MINIX\"\n",
    "models = {}\n",
    "for dir in os.listdir(rootdir):\n",
    "    if os.path.isdir(os.path.join(rootdir, dir)):\n",
    "        if dir == functional+\"_\"+basisset:\n",
    "            for file in os.listdir(os.path.join(rootdir, dir)):\n",
    "                if file.endswith('.pkl'):\n",
    "                    print(f'Loading model from {os.path.join(rootdir, dir, file)}')\n",
    "                    with open(os.path.join(rootdir, dir, file), 'rb') as f:\n",
    "                        model = pickle.load(f)\n",
    "                        modelname = file.replace('.pkl', '')\n",
    "                        print(f'  Loaded model {modelname}')\n",
    "                        models[modelname] = model\n"
   ]
  }
 ],
 "metadata": {
  "kernelspec": {
   "display_name": "py310andscik",
   "language": "python",
   "name": "python3"
  },
  "language_info": {
   "codemirror_mode": {
    "name": "ipython",
    "version": 3
   },
   "file_extension": ".py",
   "mimetype": "text/x-python",
   "name": "python",
   "nbconvert_exporter": "python",
   "pygments_lexer": "ipython3",
   "version": "3.10.16"
  }
 },
 "nbformat": 4,
 "nbformat_minor": 2
}
